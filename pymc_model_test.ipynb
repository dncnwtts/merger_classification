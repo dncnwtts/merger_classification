{
 "cells": [
  {
   "cell_type": "code",
   "execution_count": 1,
   "metadata": {},
   "outputs": [],
   "source": [
    "%matplotlib inline\n",
    "import numpy as np\n",
    "import matplotlib.pyplot as plt\n",
    "from scipy.stats import binom\n",
    "from scipy.special import logsumexp\n",
    "import pymc3 as pm\n",
    "import theano.tensor as TT\n",
    "import accuracy_analysis as aa\n"
   ]
  },
  {
   "cell_type": "code",
   "execution_count": 2,
   "metadata": {},
   "outputs": [
    {
     "name": "stderr",
     "output_type": "stream",
     "text": [
      "/etc/anaconda3/lib/python3.7/site-packages/ipykernel/__main__.py:29: MatplotlibDeprecationWarning: \n",
      "The text.latex.unicode rcparam was deprecated in Matplotlib 3.0 and will be removed in 3.2.\n"
     ]
    }
   ],
   "source": [
    "import matplotlib as mpl\n",
    "mpl.style.use('default')\n",
    "cycle = plt.rcParams['axes.prop_cycle'].by_key()['color']\n",
    "\n",
    "c0 = cycle[0]\n",
    "c1 = cycle[1]\n",
    "c2 = cycle[2]\n",
    "c3 = cycle[3]\n",
    "\n",
    "\n",
    "mpl.rcParams['axes.grid'] = False\n",
    "mpl.rcParams['axes.spines.left'] = True\n",
    "mpl.rcParams['axes.spines.bottom'] = True\n",
    "mpl.rcParams['axes.spines.top'] = True\n",
    "mpl.rcParams['axes.spines.right'] = True\n",
    "\n",
    "mpl.rcParams[\"xtick.minor.visible\"] =  True\n",
    "mpl.rcParams[\"ytick.minor.visible\"] =  True\n",
    "mpl.rcParams[\"xtick.bottom\"] =  True\n",
    "mpl.rcParams[\"ytick.left\"] =  True\n",
    "\n",
    "mpl.rcParams['xtick.top'] = True\n",
    "mpl.rcParams['ytick.right'] = True\n",
    "mpl.rcParams['xtick.direction'] = 'in'# could be 'in' 'out', or 'inout'\n",
    "mpl.rcParams['ytick.direction'] = 'in'\n",
    "\n",
    "mpl.rcParams['font.family'] = 'serif'\n",
    "mpl.rcParams['text.usetex'] = True\n",
    "mpl.rcParams['text.latex.unicode'] = True\n",
    "mpl.rcParams['text.latex.preamble'] = [r'\\usepackage{txfonts}',\\\n",
    "                                       r'\\usepackage[T1]{fontenc}']\n"
   ]
  },
  {
   "cell_type": "code",
   "execution_count": 3,
   "metadata": {},
   "outputs": [],
   "source": [
    "def make_sample(N, f_M, r_Ms, r_Is, seed=None):\n",
    "    np.random.seed(seed)\n",
    "    true_gals = np.random.choice([0,1], size=N, p=[1-f_M, f_M])\n",
    "    f_M_sample = true_gals.sum()/N\n",
    "    N_true = true_gals.sum()\n",
    "    \n",
    "    n = len(r_Ms)\n",
    "    \n",
    "\n",
    "    # Matrix of classifier answers\n",
    "    m = np.zeros((n, N), dtype='int')\n",
    "    for i in range(n):\n",
    "        for j in range(N):\n",
    "            if true_gals[j] == 0:\n",
    "                m[i,j] = np.random.choice([0,1], p=[r_Is[i], 1-r_Is[i]])\n",
    "            elif true_gals[j] == 1:\n",
    "                m[i,j] = np.random.choice([0,1], p=[1-r_Ms[i], r_Ms[i]])\n",
    "\n",
    "    \n",
    "    return N_true, m, true_gals"
   ]
  },
  {
   "cell_type": "code",
   "execution_count": 4,
   "metadata": {},
   "outputs": [],
   "source": [
    "def make_flat(observations):\n",
    "    n_cfers, n_obj = observations.shape\n",
    "    obs_flat = observations.ravel()\n",
    "    \n",
    "    cfer_ids = np.zeros([n_cfers, n_obj], dtype='int')\n",
    "    for i in range(n_cfers):\n",
    "        cfer_ids[i] = i\n",
    "    cfer_ids = cfer_ids.ravel()\n",
    "    \n",
    "    obj_ids = np.zeros([n_cfers, n_obj], dtype='int')\n",
    "    for j in range(n_obj):\n",
    "        obj_ids[:, j] = j\n",
    "    obj_ids = obj_ids.ravel()\n",
    "    \n",
    "    return obs_flat, obj_ids, cfer_ids"
   ]
  },
  {
   "cell_type": "code",
   "execution_count": 5,
   "metadata": {},
   "outputs": [],
   "source": [
    "def get_beta_pars(truths, observed):\n",
    "    t0 = (truths==0)\n",
    "    t1 = (truths==1)\n",
    "    o0 = (observed==0)\n",
    "    o1 = (observed==1)\n",
    "    \n",
    "    a_00 = np.count_nonzero(t0 & o0, axis=1) + 1\n",
    "    b_00 = np.count_nonzero(t0 & o1, axis=1) + 1\n",
    "    b_11 = np.count_nonzero(t1 & o0, axis=1) + 1\n",
    "    a_11 = np.count_nonzero(t1 & o1, axis=1) + 1\n",
    "    \n",
    "    return a_00, b_00, a_11, b_11\n"
   ]
  },
  {
   "cell_type": "code",
   "execution_count": 6,
   "metadata": {},
   "outputs": [],
   "source": [
    "def get_chains(obs, obs_train, true_train):\n",
    "    '''\n",
    "    these arrays are n_galaxies x n_classifiers, and are 0 for isolated, 1 for merger.\n",
    "    '''\n",
    "    obs_classes, obj_ids, cfer_ids = make_flat(obs)\n",
    "    a_00, b_00, a_11, b_11 = get_beta_pars(true_train, obs_train) \n",
    "    \n",
    "    n_cfers, n_obj = obs.shape\n",
    "    \n",
    "    with pm.Model() as explicit_model:\n",
    "        f_M  = pm.Beta('fM', alpha=0.5, beta=0.5)\n",
    "        r_Is = pm.Beta('rI', alpha=a_00, beta=b_00, shape=n_cfers)\n",
    "        r_Ms = pm.Beta('rM', alpha=a_11, beta=b_11, shape=n_cfers)\n",
    "    \n",
    "        #the \"real\" data\n",
    "        true_class = pm.Bernoulli('true_class', f_M, shape=n_obj)\n",
    "        N_M_true = pm.Deterministic('N_M', TT.sum(true_class))\n",
    "        p_obs_1 = TT.switch(TT.eq(true_class[obj_ids], 1), r_Ms[cfer_ids], 1-r_Is[cfer_ids])\n",
    "        observed = pm.Bernoulli('observed', p_obs_1, observed=obs_classes)\n",
    "\n",
    "    with explicit_model:\n",
    "        trace = pm.sample(draws=5000)\n",
    "\n",
    "    return trace.get_values('fM'), trace.get_values('rI'), trace.get_values('rM'), trace.get_values('true_class')"
   ]
  },
  {
   "cell_type": "code",
   "execution_count": 7,
   "metadata": {},
   "outputs": [],
   "source": [
    "from scipy.special import beta as Beta\n",
    "\n",
    "def make_obs(n_cfers=2, seed=0, f_M_true=0.2, f_M_train=0.5, n_obj=40, n_train=40):\n",
    "    np.random.seed(seed)\n",
    "    cfer_probs = np.random.uniform(low=0.5, high=0.9, size=n_cfers*2).reshape(-1,2)\n",
    "\n",
    "    r_Is = cfer_probs[:, 0]\n",
    "    r_Ms = cfer_probs[:, 1]\n",
    "\n",
    "    true, obs, true_samp = make_sample(n_obj, f_M_true, r_Ms, r_Is, seed=1234)\n",
    "\n",
    "    true_train, obs_train, true_samp_train = make_sample(n_train, f_M_train, r_Ms, r_Is, seed=123)\n",
    "    return obs, true, obs_train, true_train, true_samp\n",
    "\n",
    "def analyze_sample(obs, obs_train, true_train, true_samp):\n",
    "\n",
    "    f_Ms, r_Is, r_Ms, classif = get_chains(obs, obs_train, true_train)\n",
    "\n",
    "    return f_Ms, r_Is, r_Ms, classif"
   ]
  },
  {
   "cell_type": "code",
   "execution_count": 8,
   "metadata": {},
   "outputs": [],
   "source": [
    "obs, true, obs_train, true_train, true_samp = make_obs(n_cfers=14)"
   ]
  },
  {
   "cell_type": "code",
   "execution_count": 10,
   "metadata": {},
   "outputs": [
    {
     "name": "stderr",
     "output_type": "stream",
     "text": [
      "100%|██████████| 41/41 [00:00<00:00, 1245.46it/s]\n",
      "100%|██████████| 41/41 [00:00<00:00, 1015.10it/s]\n"
     ]
    },
    {
     "data": {
      "text/plain": [
       "(14, 41)"
      ]
     },
     "execution_count": 10,
     "metadata": {},
     "output_type": "execute_result"
    }
   ],
   "source": [
    "#for mock data with real classifiers\n",
    "import pandas as pd \n",
    "df_full = pd.read_hdf('df_full_04272020.hdf5','table')\n",
    "df_mock = pd.read_csv('mock_question_key.csv')\n",
    "\n",
    "inds = np.arange(41)\n",
    "f_mhats = np.zeros((14,41))\n",
    "f_mhatss = np.array((14,41))\n",
    "\n",
    "\n",
    "merger = ['MaM', 'MaD', 'MiM']\n",
    "\n",
    "not_fake_indexes = df_mock.mock_question_num[df_mock.type != 'f'].sort_values().values\n",
    "\n",
    "survey_index = df_full.set_type[not_fake_indexes].index\n",
    "\n",
    "from tqdm import tqdm\n",
    "for i in tqdm(range(41)):\n",
    "    k = survey_index[i]\n",
    "    s = df_full.loc[k][2::2]\n",
    "    for j in range(14):\n",
    "        if s[j] in merger:\n",
    "             f_mhats[j,i] = 1\n",
    "\n",
    "inds = np.arange(41)\n",
    "true_samp = np.zeros(41)\n",
    "\n",
    "merger = ['m']\n",
    "\n",
    "from tqdm import tqdm\n",
    "for i in tqdm(range(41)):\n",
    "    k = survey_index[i]\n",
    "    s = df_mock.type[df_mock.mock_question_num == k]\n",
    "    if s.values in merger:\n",
    "             true_samp[i] = 1                \n",
    "                \n",
    "obs = f_mhats\n",
    "obs_train = f_mhats\n",
    "true_train = 41\n",
    "\n",
    "np.shape(obs)\n"
   ]
  },
  {
   "cell_type": "code",
   "execution_count": 11,
   "metadata": {},
   "outputs": [],
   "source": [
    "#b_obs, true, obs_train, true_train, true_samp = make_obs(n_cfers=14)"
   ]
  },
  {
   "cell_type": "code",
   "execution_count": 12,
   "metadata": {},
   "outputs": [
    {
     "name": "stderr",
     "output_type": "stream",
     "text": [
      "Multiprocess sampling (4 chains in 4 jobs)\n",
      "CompoundStep\n",
      ">NUTS: [rM, rI, fM]\n",
      ">BinaryGibbsMetropolis: [true_class]\n",
      "Sampling 4 chains, 0 divergences: 100%|██████████| 22000/22000 [00:59<00:00, 366.89draws/s]\n"
     ]
    }
   ],
   "source": [
    "f_Ms, r_Is, r_Ms, classif = analyze_sample(obs, obs_train, true_train, obs_train)"
   ]
  },
  {
   "cell_type": "code",
   "execution_count": 13,
   "metadata": {},
   "outputs": [
    {
     "name": "stdout",
     "output_type": "stream",
     "text": [
      "[0.41068881 0.48743923 0.56552932]\n"
     ]
    },
    {
     "data": {
      "text/plain": [
       "(0, 1)"
      ]
     },
     "execution_count": 13,
     "metadata": {},
     "output_type": "execute_result"
    },
    {
     "data": {
      "image/png": "[encoded data removed]",
      "text/plain": [
       "<Figure size 640x480 with 1 Axes>"
      ]
     },
     "metadata": {},
     "output_type": "display_data"
    }
   ],
   "source": [
    "plt.figure()\n",
    "\n",
    "plt.hist(f_Ms,bins=np.linspace(0,1,51), density=True)\n",
    "plt.xlabel(r'Merger Fraction: $f_M$',fontsize=12)\n",
    "plt.ylabel(r'Probability',fontsize=12)\n",
    "plt.axvline(0.58,c='C1',linestyle='dashed',linewidth=3)\n",
    "print(np.percentile(f_Ms, [16, 50, 84]))\n",
    "n_cfers, n_obj = obs.shape\n",
    "\n",
    "plt.xlim(0,1)\n"
   ]
  },
  {
   "cell_type": "code",
   "execution_count": 14,
   "metadata": {},
   "outputs": [
    {
     "data": {
      "text/plain": [
       "(array([5.616e+03, 6.753e+03, 4.336e+03, 2.017e+03, 8.250e+02, 3.190e+02,\n",
       "        8.800e+01, 3.100e+01, 1.200e+01, 3.000e+00]),\n",
       " array([3.43504316e-05, 4.82467918e-02, 9.64592331e-02, 1.44671674e-01,\n",
       "        1.92884116e-01, 2.41096557e-01, 2.89308998e-01, 3.37521440e-01,\n",
       "        3.85733881e-01, 4.33946322e-01, 4.82158764e-01]),\n",
       " <a list of 10 Patch objects>)"
      ]
     },
     "execution_count": 14,
     "metadata": {},
     "output_type": "execute_result"
    },
    {
     "data": {
      "image/png": "[encoded data removed]",
      "text/plain": [
       "<Figure size 640x480 with 1 Axes>"
      ]
     },
     "metadata": {},
     "output_type": "display_data"
    }
   ],
   "source": [
    "plt.hist(r_Ms[:,2])"
   ]
  },
  {
   "cell_type": "code",
   "execution_count": 15,
   "metadata": {},
   "outputs": [
    {
     "ename": "SyntaxError",
     "evalue": "Missing parentheses in call to 'print'. Did you mean print(mu)? (<ipython-input-15-59fa3c499c49>, line 32)",
     "output_type": "error",
     "traceback": [
      "\u001b[0;36m  File \u001b[0;32m\"<ipython-input-15-59fa3c499c49>\"\u001b[0;36m, line \u001b[0;32m32\u001b[0m\n\u001b[0;31m    print mu\u001b[0m\n\u001b[0m           ^\u001b[0m\n\u001b[0;31mSyntaxError\u001b[0m\u001b[0;31m:\u001b[0m Missing parentheses in call to 'print'. Did you mean print(mu)?\n"
     ]
    }
   ],
   "source": [
    "# Binomial distribution assuming that all of the galaxies were classified perfectly\n",
    "# Fundamental limit to which a sample's merger fraction can be determined.\n",
    "#alpha=int(np.median(f_Ms)*n_obj)+1\n",
    "#beta = n_obj-true+1\n",
    "#p = np.linspace(0, 0.5, 1000)\n",
    "#plt.plot(p,p**(alpha-1)*(1-p)**(beta-1)/Beta(alpha,beta))\n",
    "\n",
    "p_Ms = np.zeros((1000, n_obj))\n",
    "p_Ms = []\n",
    "for k in np.random.choice(np.arange(len(f_Ms)), size=1000):\n",
    "    for j in range(n_obj):\n",
    "        num = 1\n",
    "        den_I = 1\n",
    "        den_M = 1\n",
    "        for i in range(n_cfers):\n",
    "            if obs[i,j] == 0:\n",
    "                num *= (1-r_Ms[k,i])\n",
    "                den_M *= (1-r_Ms[k,i])\n",
    "                den_I *= r_Is[k,i]\n",
    "            else:\n",
    "                num *= r_Ms[k,i]\n",
    "                den_M *= r_Ms[k,i]\n",
    "                den_I *= (1-r_Ms[k,i])\n",
    "        p_Ms.append(num*f_Ms[k]/(den_M*f_Ms[k]+den_I*(1-f_Ms[k])))\n",
    "p_Ms = np.array(p_Ms)\n",
    "p_Ms = p_Ms.reshape(-1, 41)\n",
    "\n",
    "\n",
    "#print p_Ms\n",
    "#print true_samp\n",
    "yll, mu, yul = np.percentile(p_Ms, [16,50,68], axis=0)\n",
    "print mu\n",
    "print yll\n",
    "print yul"
   ]
  },
  {
   "cell_type": "code",
   "execution_count": null,
   "metadata": {},
   "outputs": [],
   "source": [
    "plt.figure(figsize=(12,4))\n",
    "yll, mu, yul = np.percentile(p_Ms, [16,50,68], axis=0)\n",
    "\n",
    "inds = (true_samp == 0)\n",
    "plt.errorbar(np.arange(41)[inds], mu[inds], yerr=[mu[inds]-yll[inds], yul[inds]-mu[inds]], fmt='.')\n",
    "inds = (true_samp == 1)\n",
    "plt.errorbar(np.arange(41)[inds], mu[inds], yerr=[mu[inds]-yll[inds], yul[inds]-mu[inds]], fmt='.')\n",
    "plt.xlim(0,1)\n",
    "plt.xlabel('Galaxy index')\n",
    "plt.ylabel(r'$p_M$')\n"
   ]
  },
  {
   "cell_type": "code",
   "execution_count": null,
   "metadata": {},
   "outputs": [],
   "source": [
    "p_Ms = np.zeros((1000, n_obj))\n",
    "p_Ms = []\n",
    "for k in np.random.choice(np.arange(len(f_Ms)), size=1000):\n",
    "    for j in range(n_obj):\n",
    "        num = 1\n",
    "        den_I = 1\n",
    "        den_M = 1\n",
    "        for i in range(n_cfers):\n",
    "            if obs[i,j] == 0:\n",
    "                num *= (1-r_Ms[k,i])\n",
    "                den_M *= (1-r_Ms[k,i])\n",
    "                den_I *= r_Is[k,i]\n",
    "            else:\n",
    "                num *= r_Ms[k,i]\n",
    "                den_M *= r_Ms[k,i]\n",
    "                den_I *= (1-r_Ms[k,i])\n",
    "        p_Ms.append(num/(den_M+den_I))\n",
    "p_Ms = np.array(p_Ms)\n",
    "p_Ms = p_Ms.reshape(-1, 200)\n",
    "\n",
    "plt.figure(figsize=(12,4))\n",
    "yll, mu, yul = np.percentile(p_Ms, [16,50,68], axis=0)\n",
    "inds = (true_samp == 0)\n",
    "plt.errorbar(np.arange(200)[inds], mu[inds], yerr=[mu[inds]-yll[inds], yul[inds]-mu[inds]], fmt='.')\n",
    "inds = (true_samp == 1)\n",
    "plt.errorbar(np.arange(200)[inds], mu[inds], yerr=[mu[inds]-yll[inds], yul[inds]-mu[inds]], fmt='.')\n",
    "plt.xlabel('Galaxy index')\n",
    "plt.ylabel(r'$p_M$')\n",
    "plt.title('Flat prior')\n"
   ]
  },
  {
   "cell_type": "code",
   "execution_count": null,
   "metadata": {},
   "outputs": [],
   "source": [
    "obs, true, obs_train, true_train, true_samp = make_obs(n_cfers=32)"
   ]
  },
  {
   "cell_type": "code",
   "execution_count": null,
   "metadata": {},
   "outputs": [],
   "source": [
    "analyze_sample(obs, obs_train, true_train, true_samp)"
   ]
  },
  {
   "cell_type": "code",
   "execution_count": null,
   "metadata": {},
   "outputs": [],
   "source": [
    "analyze_sample(obs[:8], obs_train[:8], true_train, true_samp)"
   ]
  },
  {
   "cell_type": "code",
   "execution_count": null,
   "metadata": {},
   "outputs": [],
   "source": [
    "analyze_sample(obs[:16], obs_train[:16], true_train, true_samp)"
   ]
  },
  {
   "cell_type": "code",
   "execution_count": null,
   "metadata": {},
   "outputs": [],
   "source": [
    "analyze_sample(obs[:32], obs_train[:32], true_train, true_samp)"
   ]
  },
  {
   "cell_type": "code",
   "execution_count": null,
   "metadata": {},
   "outputs": [],
   "source": []
  }
 ],
 "metadata": {
  "kernelspec": {
   "display_name": "Python 2",
   "language": "python",
   "name": "python2"
  },
  "language_info": {
   "codemirror_mode": {
    "name": "ipython",
    "version": 2
   },
   "file_extension": ".py",
   "mimetype": "text/x-python",
   "name": "python",
   "nbconvert_exporter": "python",
   "pygments_lexer": "ipython2",
   "version": "2.7.16"
  }
 },
 "nbformat": 4,
 "nbformat_minor": 4
}
