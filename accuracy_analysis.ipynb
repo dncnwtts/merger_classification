{
 "cells": [
  {
   "cell_type": "code",
   "execution_count": 1,
   "metadata": {},
   "outputs": [],
   "source": [
    "%matplotlib inline\n",
    "import matplotlib.pyplot as plt\n",
    "import numpy as np\n",
    "\n",
    "from scipy.stats import binom, multinomial, beta, dirichlet\n",
    "from scipy.integrate import cumtrapz\n",
    "import statsmodels.stats.proportion\n",
    "\n",
    "\n",
    "import pandas as pd\n",
    "\n",
    "plot_all_lines = False\n",
    "import warnings\n",
    "warnings.simplefilter('error', RuntimeWarning)\n",
    "\n",
    "\n",
    "def beta_std(k, N, alpha=0.32, method='beta'):\n",
    "    ll, ul = statsmodels.stats.proportion.proportion_confint(k, N, alpha=alpha, method=method)\n",
    "    return ll, ul, (ul-ll)/2\n",
    "\n",
    "def pdf_std(P, x, alpha=0.32):\n",
    "    cdf = cumtrapz(P,x)/cumtrapz(P,x)[-1]\n",
    "    ll = x[1:][cdf < (0.5-(1-alpha)/2)][-1]\n",
    "    ul = x[1:][cdf > (0.5+(1-alpha)/2)][0]\n",
    "    return ll, ul, (ul-ll)/2\n",
    "    "
   ]
  },
  {
   "cell_type": "code",
   "execution_count": 2,
   "metadata": {},
   "outputs": [],
   "source": [
    "from scipy.special import binom, loggamma\n",
    "def logbinom(n, k):\n",
    "    return loggamma(n+1) - loggamma(k+1) - loggamma(n-k+1)\n",
    "\n",
    "def logbinom_lnnk(n,k):\n",
    "    logbinom = k*np.log(n/k - 0.5) + k -0.5*np.log(2*np.pi*k)\n",
    "    return logbinom\n",
    "    \n",
    "def f_b(k, n, p, thresh=100):\n",
    "    # k is an integer, n is an array\n",
    "    logf1 = logbinom(n, k)\n",
    "\n",
    "    logf2 = k*np.log(p)\n",
    "    logf3 = (n-k)*np.log(1-p)\n",
    "    logf_b = logf1+logf2+logf3\n",
    "    return logf_b\n",
    "\n",
    "\n",
    "def L(Ns, rj, rjp, N_M, Ntot, high_acc=False):\n",
    "    L = 0\n",
    "    if high_acc:\n",
    "        N_Mks = np.linspace(0,N_M,1000)\n",
    "    else:\n",
    "        #Ns = Ns.astype(int)\n",
    "        N_Mks = np.arange(N_M+1)\n",
    "    for k in range(len(N_Mks)):\n",
    "        L1 = np.zeros(len(Ns))-np.inf\n",
    "        L2 = np.zeros(len(Ns))-np.inf\n",
    "        inds = ((Ns >= k) & (Ntot-Ns >= N_M-k))\n",
    "        L1[inds] = f_b(k, Ns[inds], rj)\n",
    "        L2[inds] = f_b(N_M-k, Ntot-Ns[inds], 1-rjp)\n",
    "        L += np.exp(L1+L2)\n",
    "    return L"
   ]
  },
  {
   "cell_type": "code",
   "execution_count": 3,
   "metadata": {},
   "outputs": [],
   "source": [
    "# Total sample size\n",
    "N = 193\n",
    "# True merger fraction\n",
    "f_M = 0.1\n",
    "# number of classifier\n",
    "n = 14\n",
    "def make_sample(N, f_M, n, width_I=0.05, width_M=0.05, I=0.6, M=0.8):\n",
    "    true_gals = np.random.choice([0,1], size=N, p=[1-f_M, f_M])\n",
    "    f_M_sample = true_gals.sum()/N\n",
    "    N_true = true_gals.sum()\n",
    "    \n",
    "    r_Ms = np.random.uniform(low=M-width_M/2, high=M+width_M/2, size=n)\n",
    "    r_Is = np.random.uniform(low=I-width_I/2, high=I+width_I/2, size=n)\n",
    "\n",
    "    # Matrix of classifier answers\n",
    "    m = np.zeros((n, N), dtype='int')\n",
    "    for i in range(n):\n",
    "        for j in range(N):\n",
    "            if true_gals[j] == 0:\n",
    "                m[i,j] = np.random.choice([0,1], p=[r_Is[i], 1-r_Is[i]])\n",
    "            elif true_gals[j] == 1:\n",
    "                m[i,j] = np.random.choice([0,1], p=[1-r_Ms[i], r_Ms[i]])\n",
    "    N_M = m.sum(axis=1)\n",
    "\n",
    "    \n",
    "    return N_true, N_M, r_Ms, r_Is\n",
    "\n",
    "n_exp = 100\n",
    "mu1 = np.zeros(n_exp)\n",
    "mu2 = np.zeros(n_exp)\n",
    "ll1 = np.zeros(n_exp)\n",
    "ul1 = np.zeros(n_exp)\n",
    "ll2 = np.zeros(n_exp)\n",
    "ul2 = np.zeros(n_exp)\n",
    "\n",
    "N_trues = np.zeros(n_exp)\n",
    "Z1 = np.zeros(n_exp)\n",
    "Z2 = np.zeros(n_exp)\n",
    "\n",
    "fs = np.linspace(0,1,1001)\n",
    "Ns = N*fs\n",
    "for _ in range(n_exp):\n",
    "    N_true, N_M, r_Ms, r_Is = make_sample(N, f_M, n)\n",
    "    lnLi = L(Ns, r_Ms[0], r_Is[0], N_M[0], N)*0\n",
    "    for i in range(n):\n",
    "        lnLi += np.log(L(Ns, r_Ms[i], r_Is[i], N_M[i], N))\n",
    "    P = np.exp(lnLi - lnLi.max())\n",
    "    mu = sum(fs*P)/sum(P)\n",
    "    ll, ul, sd = pdf_std(P, fs)\n",
    "    Z1[_] = (mu-N_true/N)/sd\n",
    "    mu1[_] = mu\n",
    "    ll1[_] = ll\n",
    "    ul1[_] = ul\n",
    "    \n",
    "    mu = (n*N_M.mean()+1)/(n*N+2)\n",
    "    mu2[_] = mu\n",
    "    #ll, ul, sd = beta_std(sum(N_M), n*N)\n",
    "    ll, ul, sd = beta_std(N_M.mean(), N)\n",
    "    Z2[_] = (mu-N_true/N)/sd\n",
    "    ll2[_] = ll\n",
    "    ul2[_] = ul\n",
    "    \n",
    "    N_trues[_] = N_true"
   ]
  },
  {
   "cell_type": "code",
   "execution_count": 4,
   "metadata": {},
   "outputs": [
    {
     "data": {
      "text/plain": [
       "Text(0.5, 0, '$(\\\\hat f_M-f_M)/\\\\sigma_{f_M}$')"
      ]
     },
     "execution_count": 4,
     "metadata": {},
     "output_type": "execute_result"
    },
    {
     "data": {
      "image/png": "[encoded data removed]",
      "text/plain": [
       "<Figure size 432x288 with 1 Axes>"
      ]
     },
     "metadata": {
      "needs_background": "light"
     },
     "output_type": "display_data"
    }
   ],
   "source": [
    "bins = np.linspace(-5,10)\n",
    "plt.hist(Z1, bins=bins, alpha=0.7, label='Full Bayesian analysis')\n",
    "plt.hist(Z2, bins=bins, alpha=0.7, label='Binomial analysis')\n",
    "plt.legend(loc='best')\n",
    "plt.xlabel(r'$(\\hat f_M-f_M)/\\sigma_{f_M}$')"
   ]
  },
  {
   "cell_type": "code",
   "execution_count": 5,
   "metadata": {},
   "outputs": [
    {
     "data": {
      "text/plain": [
       "<ErrorbarContainer object of 3 artists>"
      ]
     },
     "execution_count": 5,
     "metadata": {},
     "output_type": "execute_result"
    },
    {
     "data": {
      "image/png": "[encoded data removed]",
      "text/plain": [
       "<Figure size 432x288 with 9 Axes>"
      ]
     },
     "metadata": {
      "needs_background": "light"
     },
     "output_type": "display_data"
    },
    {
     "data": {
      "image/png": "[encoded data removed]",
      "text/plain": [
       "<Figure size 432x288 with 1 Axes>"
      ]
     },
     "metadata": {
      "needs_background": "light"
     },
     "output_type": "display_data"
    }
   ],
   "source": [
    "# Make a plot with different merger fractions\n",
    "\n",
    "\n",
    "f_M_truths = np.arange(0.1, 1, 0.1)\n",
    "n_exp = 50\n",
    "fs = np.linspace(0,1,1001)\n",
    "bins = np.linspace(-10,10, 101)\n",
    "\n",
    "Z1mu = []\n",
    "Z2mu = []\n",
    "Z1sd = []\n",
    "Z2sd = []\n",
    "r_M_base = 0.95\n",
    "r_I_base = 0.95\n",
    "fig, axes = plt.subplots(nrows=3, ncols=3, sharex=True, sharey=True)\n",
    "axs = axes.flatten()\n",
    "for f_i in range(len(f_M_truths)):\n",
    "    mu1 = np.zeros(n_exp)\n",
    "    mu2 = np.zeros(n_exp)\n",
    "    ll1 = np.zeros(n_exp)\n",
    "    ul1 = np.zeros(n_exp)\n",
    "    ll2 = np.zeros(n_exp)\n",
    "    ul2 = np.zeros(n_exp)\n",
    "\n",
    "    N_trues = np.zeros(n_exp)\n",
    "    Z1 = np.zeros(n_exp)\n",
    "    Z2 = np.zeros(n_exp)\n",
    "\n",
    "    Ns = N*fs\n",
    "    for _ in range(n_exp):\n",
    "        N_true, N_M, r_Ms, r_Is = make_sample(N, f_M_truths[f_i], n, M=r_M_base, I=r_I_base)\n",
    "        lnLi = L(Ns, r_Ms[0], r_Is[0], N_M[0], N)*0\n",
    "        for i in range(n):\n",
    "            lnLi += np.log(L(Ns, r_Ms[i], r_Is[i], N_M[i], N))\n",
    "        P = np.exp(lnLi - lnLi.max())\n",
    "        mu = sum(fs*P)/sum(P)\n",
    "        ll, ul, sd = pdf_std(P, fs)\n",
    "        Z1[_] = (mu-N_true/N)/sd\n",
    "        mu1[_] = mu\n",
    "        ll1[_] = ll\n",
    "        ul1[_] = ul\n",
    "    \n",
    "        mu = (n*N_M.mean()+1)/(n*N+2)\n",
    "        mu2[_] = mu\n",
    "        #ll, ul, sd = beta_std(sum(N_M), n*N)\n",
    "        ll, ul, sd = beta_std(N_M.mean(), N)\n",
    "        Z2[_] = (mu-N_true/N)/sd\n",
    "        ll2[_] = ll\n",
    "        ul2[_] = ul\n",
    "    \n",
    "        N_trues[_] = N_true\n",
    "    axs[f_i].hist(Z1, bins=bins, alpha=0.5)\n",
    "    axs[f_i].hist(Z2, bins=bins, alpha=0.5)\n",
    "    Z1mu.append(Z1.mean())\n",
    "    Z2mu.append(Z2.mean())\n",
    "    Z1sd.append(Z2.std())\n",
    "    Z2sd.append(Z2.std())\n",
    "\n",
    "# Make plot of merger fraction on horizontal axis, y axis is mean sigma away, error bars are spread of distribution.\n",
    "plt.figure()\n",
    "plt.errorbar(f_M_truths, Z1mu, Z1sd, fmt='o')\n",
    "plt.errorbar(f_M_truths, Z2mu, Z2sd, fmt='o')"
   ]
  },
  {
   "cell_type": "code",
   "execution_count": 6,
   "metadata": {},
   "outputs": [
    {
     "data": {
      "text/plain": [
       "<ErrorbarContainer object of 3 artists>"
      ]
     },
     "execution_count": 6,
     "metadata": {},
     "output_type": "execute_result"
    },
    {
     "data": {
      "image/png": "[encoded data removed]",
      "text/plain": [
       "<Figure size 432x288 with 9 Axes>"
      ]
     },
     "metadata": {
      "needs_background": "light"
     },
     "output_type": "display_data"
    },
    {
     "data": {
      "image/png": "[encoded data removed]",
      "text/plain": [
       "<Figure size 432x288 with 1 Axes>"
      ]
     },
     "metadata": {
      "needs_background": "light"
     },
     "output_type": "display_data"
    }
   ],
   "source": [
    "# Make a plot with different merger fractions\n",
    "\n",
    "\n",
    "f_M_truths = np.arange(0.1, 1, 0.1)\n",
    "n_exp = 50\n",
    "fs = np.linspace(0,1,1001)\n",
    "bins = np.linspace(-10,10, 101)\n",
    "\n",
    "Z1mu = []\n",
    "Z2mu = []\n",
    "Z1sd = []\n",
    "Z2sd = []\n",
    "r_M_base = 0.05\n",
    "r_I_base = 0.05\n",
    "fig, axes = plt.subplots(nrows=3, ncols=3, sharex=True, sharey=True)\n",
    "axs = axes.flatten()\n",
    "for f_i in range(len(f_M_truths)):\n",
    "    mu1 = np.zeros(n_exp)\n",
    "    mu2 = np.zeros(n_exp)\n",
    "    ll1 = np.zeros(n_exp)\n",
    "    ul1 = np.zeros(n_exp)\n",
    "    ll2 = np.zeros(n_exp)\n",
    "    ul2 = np.zeros(n_exp)\n",
    "\n",
    "    N_trues = np.zeros(n_exp)\n",
    "    Z1 = np.zeros(n_exp)\n",
    "    Z2 = np.zeros(n_exp)\n",
    "\n",
    "    Ns = N*fs\n",
    "    for _ in range(n_exp):\n",
    "        N_true, N_M, r_Ms, r_Is = make_sample(N, f_M_truths[f_i], n, M=r_M_base, I=r_I_base)\n",
    "        lnLi = L(Ns, r_Ms[0], r_Is[0], N_M[0], N)*0\n",
    "        for i in range(n):\n",
    "            lnLi += np.log(L(Ns, r_Ms[i], r_Is[i], N_M[i], N))\n",
    "        P = np.exp(lnLi - lnLi.max())\n",
    "        mu = sum(fs*P)/sum(P)\n",
    "        ll, ul, sd = pdf_std(P, fs)\n",
    "        Z1[_] = (mu-N_true/N)/sd\n",
    "        mu1[_] = mu\n",
    "        ll1[_] = ll\n",
    "        ul1[_] = ul\n",
    "    \n",
    "        mu = (n*N_M.mean()+1)/(n*N+2)\n",
    "        mu2[_] = mu\n",
    "        #ll, ul, sd = beta_std(sum(N_M), n*N)\n",
    "        ll, ul, sd = beta_std(N_M.mean(), N)\n",
    "        Z2[_] = (mu-N_true/N)/sd\n",
    "        ll2[_] = ll\n",
    "        ul2[_] = ul\n",
    "    \n",
    "        N_trues[_] = N_true\n",
    "    axs[f_i].hist(Z1, bins=bins, alpha=0.5)\n",
    "    axs[f_i].hist(Z2, bins=bins, alpha=0.5)\n",
    "    Z1mu.append(Z1.mean())\n",
    "    Z2mu.append(Z2.mean())\n",
    "    Z1sd.append(Z2.std())\n",
    "    Z2sd.append(Z2.std())\n",
    "\n",
    "# Make plot of merger fraction on horizontal axis, y axis is mean sigma away, error bars are spread of distribution.\n",
    "plt.figure()\n",
    "plt.errorbar(f_M_truths, Z1mu, Z1sd, fmt='o')\n",
    "plt.errorbar(f_M_truths, Z2mu, Z2sd, fmt='o')"
   ]
  },
  {
   "cell_type": "code",
   "execution_count": 7,
   "metadata": {},
   "outputs": [
    {
     "data": {
      "text/plain": [
       "<ErrorbarContainer object of 3 artists>"
      ]
     },
     "execution_count": 7,
     "metadata": {},
     "output_type": "execute_result"
    },
    {
     "data": {
      "image/png": "[encoded data removed]",
      "text/plain": [
       "<Figure size 432x288 with 9 Axes>"
      ]
     },
     "metadata": {
      "needs_background": "light"
     },
     "output_type": "display_data"
    },
    {
     "data": {
      "image/png": "[encoded data removed]",
      "text/plain": [
       "<Figure size 432x288 with 1 Axes>"
      ]
     },
     "metadata": {
      "needs_background": "light"
     },
     "output_type": "display_data"
    }
   ],
   "source": [
    "# Make a plot with different merger fractions\n",
    "\n",
    "\n",
    "f_M_truths = np.arange(0.1, 1, 0.1)\n",
    "n_exp = 50\n",
    "fs = np.linspace(0,1,1001)\n",
    "bins = np.linspace(-10,10, 101)\n",
    "\n",
    "Z1mu = []\n",
    "Z2mu = []\n",
    "Z1sd = []\n",
    "Z2sd = []\n",
    "r_M_base = 0.9\n",
    "r_I_base = 0.5\n",
    "fig, axes = plt.subplots(nrows=3, ncols=3, sharex=True, sharey=True)\n",
    "axs = axes.flatten()\n",
    "for f_i in range(len(f_M_truths)):\n",
    "    mu1 = np.zeros(n_exp)\n",
    "    mu2 = np.zeros(n_exp)\n",
    "    ll1 = np.zeros(n_exp)\n",
    "    ul1 = np.zeros(n_exp)\n",
    "    ll2 = np.zeros(n_exp)\n",
    "    ul2 = np.zeros(n_exp)\n",
    "\n",
    "    N_trues = np.zeros(n_exp)\n",
    "    Z1 = np.zeros(n_exp)\n",
    "    Z2 = np.zeros(n_exp)\n",
    "\n",
    "    Ns = N*fs\n",
    "    for _ in range(n_exp):\n",
    "        N_true, N_M, r_Ms, r_Is = make_sample(N, f_M_truths[f_i], n, M=r_M_base, I=r_I_base)\n",
    "        lnLi = L(Ns, r_Ms[0], r_Is[0], N_M[0], N)*0\n",
    "        for i in range(n):\n",
    "            lnLi += np.log(L(Ns, r_Ms[i], r_Is[i], N_M[i], N))\n",
    "        P = np.exp(lnLi - lnLi.max())\n",
    "        mu = sum(fs*P)/sum(P)\n",
    "        ll, ul, sd = pdf_std(P, fs)\n",
    "        Z1[_] = (mu-N_true/N)/sd\n",
    "        mu1[_] = mu\n",
    "        ll1[_] = ll\n",
    "        ul1[_] = ul\n",
    "    \n",
    "        mu = (n*N_M.mean()+1)/(n*N+2)\n",
    "        mu2[_] = mu\n",
    "        #ll, ul, sd = beta_std(sum(N_M), n*N)\n",
    "        ll, ul, sd = beta_std(N_M.mean(), N)\n",
    "        Z2[_] = (mu-N_true/N)/sd\n",
    "        ll2[_] = ll\n",
    "        ul2[_] = ul\n",
    "    \n",
    "        N_trues[_] = N_true\n",
    "    axs[f_i].hist(Z1, bins=bins, alpha=0.5)\n",
    "    axs[f_i].hist(Z2, bins=bins, alpha=0.5)\n",
    "    Z1mu.append(Z1.mean())\n",
    "    Z2mu.append(Z2.mean())\n",
    "    Z1sd.append(Z2.std())\n",
    "    Z2sd.append(Z2.std())\n",
    "\n",
    "# Make plot of merger fraction on horizontal axis, y axis is mean sigma away, error bars are spread of distribution.\n",
    "plt.figure()\n",
    "plt.errorbar(f_M_truths, Z1mu, Z1sd, fmt='o')\n",
    "plt.errorbar(f_M_truths, Z2mu, Z2sd, fmt='o')"
   ]
  },
  {
   "cell_type": "code",
   "execution_count": null,
   "metadata": {},
   "outputs": [],
   "source": [
    "# Make a plot with different merger fractions\n",
    "\n",
    "\n",
    "f_M_truths = np.arange(0.1, 1, 0.1)\n",
    "n_exp = 50\n",
    "fs = np.linspace(0,1,1001)\n",
    "bins = np.linspace(-10,10, 101)\n",
    "\n",
    "Z1mu = []\n",
    "Z2mu = []\n",
    "Z1sd = []\n",
    "Z2sd = []\n",
    "r_M_base = 0.5\n",
    "r_I_base = 0.9\n",
    "fig, axes = plt.subplots(nrows=3, ncols=3, sharex=True, sharey=True)\n",
    "axs = axes.flatten()\n",
    "for f_i in range(len(f_M_truths)):\n",
    "    mu1 = np.zeros(n_exp)\n",
    "    mu2 = np.zeros(n_exp)\n",
    "    ll1 = np.zeros(n_exp)\n",
    "    ul1 = np.zeros(n_exp)\n",
    "    ll2 = np.zeros(n_exp)\n",
    "    ul2 = np.zeros(n_exp)\n",
    "\n",
    "    N_trues = np.zeros(n_exp)\n",
    "    Z1 = np.zeros(n_exp)\n",
    "    Z2 = np.zeros(n_exp)\n",
    "\n",
    "    Ns = N*fs\n",
    "    for _ in range(n_exp):\n",
    "        N_true, N_M, r_Ms, r_Is = make_sample(N, f_M_truths[f_i], n, M=r_M_base, I=r_I_base)\n",
    "        lnLi = L(Ns, r_Ms[0], r_Is[0], N_M[0], N)*0\n",
    "        for i in range(n):\n",
    "            lnLi += np.log(L(Ns, r_Ms[i], r_Is[i], N_M[i], N))\n",
    "        P = np.exp(lnLi - lnLi.max())\n",
    "        mu = sum(fs*P)/sum(P)\n",
    "        ll, ul, sd = pdf_std(P, fs)\n",
    "        Z1[_] = (mu-N_true/N)/sd\n",
    "        mu1[_] = mu\n",
    "        ll1[_] = ll\n",
    "        ul1[_] = ul\n",
    "    \n",
    "        mu = (n*N_M.mean()+1)/(n*N+2)\n",
    "        mu2[_] = mu\n",
    "        #ll, ul, sd = beta_std(sum(N_M), n*N)\n",
    "        ll, ul, sd = beta_std(N_M.mean(), N)\n",
    "        Z2[_] = (mu-N_true/N)/sd\n",
    "        ll2[_] = ll\n",
    "        ul2[_] = ul\n",
    "    \n",
    "        N_trues[_] = N_true\n",
    "    axs[f_i].hist(Z1, bins=bins, alpha=0.5)\n",
    "    axs[f_i].hist(Z2, bins=bins, alpha=0.5)\n",
    "    Z1mu.append(Z1.mean())\n",
    "    Z2mu.append(Z2.mean())\n",
    "    Z1sd.append(Z2.std())\n",
    "    Z2sd.append(Z2.std())\n",
    "\n",
    "# Make plot of merger fraction on horizontal axis, y axis is mean sigma away, error bars are spread of distribution.\n",
    "plt.figure()\n",
    "plt.errorbar(f_M_truths, Z1mu, Z1sd, fmt='o')\n",
    "plt.errorbar(f_M_truths, Z2mu, Z2sd, fmt='o')"
   ]
  },
  {
   "cell_type": "code",
   "execution_count": null,
   "metadata": {},
   "outputs": [],
   "source": [
    "%reset -f"
   ]
  }
 ],
 "metadata": {
  "kernelspec": {
   "display_name": "Python 3 (Anaconda)",
   "language": "python",
   "name": "python3-anaconda"
  },
  "language_info": {
   "codemirror_mode": {
    "name": "ipython",
    "version": 3
   },
   "file_extension": ".py",
   "mimetype": "text/x-python",
   "name": "python",
   "nbconvert_exporter": "python",
   "pygments_lexer": "ipython3",
   "version": "3.7.4"
  }
 },
 "nbformat": 4,
 "nbformat_minor": 4
}
