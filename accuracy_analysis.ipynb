{
 "cells": [
  {
   "cell_type": "code",
   "execution_count": 1,
   "metadata": {},
   "outputs": [],
   "source": [
    "%matplotlib inline\n",
    "import matplotlib.pyplot as plt\n",
    "import numpy as np\n",
    "\n",
    "from scipy.stats import binom, multinomial, beta, dirichlet\n",
    "\n",
    "plot_all_lines = False\n",
    "import warnings\n",
    "warnings.simplefilter('error', RuntimeWarning)\n"
   ]
  },
  {
   "cell_type": "code",
   "execution_count": 2,
   "metadata": {},
   "outputs": [],
   "source": [
    "from scipy.special import binom, loggamma\n",
    "def logbinom(n, k):\n",
    "    return loggamma(n+1) - loggamma(k+1) - loggamma(n-k+1)\n",
    "\n",
    "def logbinom_lnnk(n,k):\n",
    "    logbinom = k*np.log(n/k - 0.5) + k -0.5*np.log(2*np.pi*k)\n",
    "    return logbinom\n",
    "    \n",
    "def f_b(k, n, p, thresh=100):\n",
    "    # k is an integer, n is an array\n",
    "    logf1 = logbinom(n, k)\n",
    "\n",
    "\n",
    "    logf2 = k*np.log(p)\n",
    "    logf3 = (n-k)*np.log(1-p)\n",
    "    logf_b = logf1+logf2+logf3\n",
    "    return logf_b\n",
    "\n",
    "\n",
    "def L(Ns, rj, rjp, N_M, Ntot, high_acc=False):\n",
    "    L = 0\n",
    "    if high_acc:\n",
    "        N_Mks = np.linspace(0,N_M,1000)\n",
    "    else:\n",
    "        Ns = Ns.astype(int)\n",
    "        N_Mks = np.arange(N_M+1)\n",
    "    for k in range(len(N_Mks)):\n",
    "        L1 = np.zeros(len(Ns))-np.inf\n",
    "        L2 = np.zeros(len(Ns))-np.inf\n",
    "        inds = ((Ns >= k) & (Ntot-Ns >= N_M-k))\n",
    "        L1[inds] = f_b(k, Ns[inds], rj)\n",
    "        L2[inds] = f_b(N_M-k, Ntot-Ns[inds], 1-rjp)\n",
    "        L += np.exp(L1+L2)\n",
    "    return L"
   ]
  },
  {
   "cell_type": "code",
   "execution_count": 3,
   "metadata": {},
   "outputs": [],
   "source": [
    "Z1 = []\n",
    "Z2 = []\n",
    "\n",
    "# Total sample size\n",
    "N = 193\n",
    "# True merger fraction\n",
    "f_M = 0.4\n",
    "\n",
    "for _ in range(10000):\n",
    "    # Realization of sample, where index 0 is isolated, 1 is a merger.\n",
    "    #true_gals = binom.rvs(1, f_M, size=N)\n",
    "    true_gals = np.random.choice([0,1], size=N, p=[1-f_M, f_M])\n",
    "    f_M_sample = true_gals.sum()/N\n",
    "    # Number of classifiers\n",
    "    n = 14\n",
    "    r_Ms = np.random.uniform(low=0.5, high=0.8, size=n)\n",
    "    r_Is = np.random.uniform(low=0.6, high=0.9, size=n)\n",
    "\n",
    "    # Matrix of classifier answers\n",
    "    m = np.zeros((n, N), dtype='int')\n",
    "    for i in range(n):\n",
    "        for j in range(N):\n",
    "            if true_gals[j] == 0:\n",
    "                m[i,j] = np.random.choice([0,1], p=[r_Is[i], 1-r_Is[i]])\n",
    "            elif true_gals[j] == 1:\n",
    "                m[i,j] = np.random.choice([0,1], p=[1-r_Ms[i], r_Ms[i]])\n",
    "    N_M = m.sum(axis=1)\n",
    "    Ns = np.linspace(1, N, 1000)\n",
    "    lnLi = L(Ns, r_Ms[i], r_Is[i], N_M[i], N)*0\n",
    "    for i in range(n):\n",
    "        lnLi += np.log(L(Ns, r_Ms[i], r_Is[i], N_M[i], N))\n",
    "    P = np.exp(lnLi - lnLi.max())\n",
    "    mu = sum(Ns*P)/sum(P)\n",
    "    var = sum((Ns-mu)**2*P)/sum(P)\n",
    "    Z1.append((true_gals.sum()-mu)/var**0.5)\n",
    "               \n",
    "    mu = N_M.mean()\n",
    "    sd = np.sqrt(f_M*(1-f_M))*N_M.std()/len(N_M)**0.5\n",
    "    Z2.append((true_gals.sum()-mu)/sd)"
   ]
  },
  {
   "cell_type": "code",
   "execution_count": 8,
   "metadata": {},
   "outputs": [
    {
     "data": {
      "text/plain": [
       "Text(0.5, 0, '$|\\\\hat N_M-N_M|/\\\\sigma_{N_M}$')"
      ]
     },
     "execution_count": 8,
     "metadata": {},
     "output_type": "execute_result"
    },
    {
     "data": {
      "image/png": "[encoded data removed]",
      "text/plain": [
       "<Figure size 432x288 with 1 Axes>"
      ]
     },
     "metadata": {
      "needs_background": "light"
     },
     "output_type": "display_data"
    }
   ],
   "source": [
    "bins = np.linspace(-15,15,51)\n",
    "plt.hist(Z1, bins=bins, alpha=0.7, label='Full Bayesian analysis')\n",
    "plt.hist(Z2, bins=bins, alpha=0.7, label='Binomial analysis')\n",
    "plt.legend(loc='best')\n",
    "plt.xlabel(r'$|\\hat N_M-N_M|/\\sigma_{N_M}$')"
   ]
  },
  {
   "cell_type": "code",
   "execution_count": null,
   "metadata": {},
   "outputs": [
    {
     "data": {
      "text/plain": [
       "Text(0, 0.5, '$Z$ (binomial analysis')"
      ]
     },
     "execution_count": 18,
     "metadata": {},
     "output_type": "execute_result"
    }
   ],
   "source": [
    "plt.hexbin(Z1, Z2, gridsize=40)\n",
    "plt.xlim([-3.5, 3.5])\n",
    "plt.ylim([-14.5, 14.5])\n",
    "plt.colorbar(label=r'$N$')\n",
    "plt.xlabel(r'$Z$ (full Bayesian)')\n",
    "plt.ylabel(r'$Z$ (binomial analysis')"
   ]
  },
  {
   "cell_type": "code",
   "execution_count": null,
   "metadata": {},
   "outputs": [],
   "source": []
  }
 ],
 "metadata": {
  "kernelspec": {
   "display_name": "Python 3 (Anaconda)",
   "language": "python",
   "name": "python3-anaconda"
  },
  "language_info": {
   "codemirror_mode": {
    "name": "ipython",
    "version": 3
   },
   "file_extension": ".py",
   "mimetype": "text/x-python",
   "name": "python",
   "nbconvert_exporter": "python",
   "pygments_lexer": "ipython3",
   "version": "3.7.4"
  }
 },
 "nbformat": 4,
 "nbformat_minor": 4
}
