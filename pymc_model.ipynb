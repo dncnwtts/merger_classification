{
 "cells": [
  {
   "cell_type": "code",
   "execution_count": 1,
   "metadata": {},
   "outputs": [],
   "source": [
    "%matplotlib inline\n",
    "import numpy as np\n",
    "import matplotlib.pyplot as plt\n",
    "from scipy.stats import binom\n",
    "from scipy.special import logsumexp\n",
    "import pymc3 as pm\n",
    "import theano.tensor as TT"
   ]
  },
  {
   "cell_type": "code",
   "execution_count": 2,
   "metadata": {},
   "outputs": [],
   "source": [
    "def generate_examples(p_1, n_obj, cfer_p_00, cfer_p_11):\n",
    "    #for now, assume everyone classifies everything\n",
    "    np.random.seed(0)\n",
    "    true_classes = np.random.choice(2, p=[1-p_1, p_1], size=n_obj)\n",
    "    \n",
    "    n_cfer = len(cfer_p_00)\n",
    "    \n",
    "    p_obs_1 = np.where(true_classes[:, None]==1, cfer_p_11[None, :], (1-cfer_p_00[None, :]))\n",
    "    obs_classes = np.where(np.random.uniform(0, 1, [n_obj, n_cfer]) < p_obs_1, 1, 0)\n",
    "    \n",
    "    return true_classes, obs_classes.T"
   ]
  },
  {
   "cell_type": "code",
   "execution_count": 3,
   "metadata": {},
   "outputs": [],
   "source": [
    "p_1_true = 0.2\n",
    "p_1_train = 0.5\n",
    "\n",
    "cfer_probs = np.asarray([[0.9, 0.7],\n",
    "                         [0.7, 0.9],\n",
    "                         [0.8, 0.8],\n",
    "                         [0.3, 0.9],\n",
    "                         [0.4, 0.7],\n",
    "                         [0.9, 0.9]])\n",
    "\n",
    "n_real = 10000\n",
    "true_fs = np.zeros(n_real)\n",
    "obs_fs = np.zeros(n_real)\n",
    "\n",
    "n_obj = 200\n",
    "true, obs = generate_examples(p_1_true, n_obj, cfer_probs[:, 0], cfer_probs[:, 1])\n",
    "\n",
    "n_train = 20\n",
    "true_train, obs_train = generate_examples(p_1_train, n_train, cfer_probs[:, 0], cfer_probs[:, 1])\n",
    "\n",
    "#for real_i in range(n_real):\n",
    "#    true, obs = generate_examples(p_0, n_obj, cfer_probs[:, 0], cfer_probs[:, 1])\n",
    "#    true_fs[real_i] = 1-np.mean(np.random.choice(true, size=n_obj, replace=True))"
   ]
  },
  {
   "cell_type": "code",
   "execution_count": 4,
   "metadata": {},
   "outputs": [],
   "source": [
    "def make_flat(observations):\n",
    "    n_cfers, n_obj = observations.shape\n",
    "    obs_flat = observations.ravel()\n",
    "    \n",
    "    cfer_ids = np.zeros([n_cfers, n_obj], dtype='int')\n",
    "    for i in range(n_cfers):\n",
    "        cfer_ids[i] = i\n",
    "    cfer_ids = cfer_ids.ravel()\n",
    "    \n",
    "    obj_ids = np.zeros([n_cfers, n_obj], dtype='int')\n",
    "    for j in range(n_obj):\n",
    "        obj_ids[:, j] = j\n",
    "    obj_ids = obj_ids.ravel()\n",
    "    \n",
    "    return obs_flat, obj_ids, cfer_ids"
   ]
  },
  {
   "cell_type": "code",
   "execution_count": 5,
   "metadata": {},
   "outputs": [],
   "source": [
    "def get_beta_pars(truths, observed):\n",
    "    t0 = (truths==0)\n",
    "    t1 = (truths==1)\n",
    "    o0 = (observed==0)\n",
    "    o1 = (observed==1)\n",
    "    \n",
    "    a_00 = np.count_nonzero(t0 & o0, axis=1) + 1\n",
    "    b_00 = np.count_nonzero(t0 & o1, axis=1) + 1\n",
    "    b_11 = np.count_nonzero(t1 & o0, axis=1) + 1\n",
    "    a_11 = np.count_nonzero(t1 & o1, axis=1) + 1\n",
    "    \n",
    "    return a_00, b_00, a_11, b_11\n"
   ]
  },
  {
   "cell_type": "code",
   "execution_count": 6,
   "metadata": {},
   "outputs": [],
   "source": [
    "#bayes-net style, without marginalization over outcomes\n",
    "p_1f0 = 1-cfer_probs[:, 0] #true 0 -> obs 1\n",
    "p_1f1 = cfer_probs[:, 1] #true 1 -> obs 1\n",
    "n_cfers = len(p_1f0)\n",
    "\n",
    "\n",
    "### go flat; for now, everyone classifies everything\n",
    "\n",
    "##the \"real\" observations\n",
    "obs_classes, obj_ids, cfer_ids = make_flat(obs)\n",
    "\n",
    "##the training set\n",
    "a_00, b_00, a_11, b_11 = get_beta_pars(true_train, obs_train) \n",
    "\n",
    "\n",
    "with pm.Model() as explicit_model:\n",
    "    p_1 = pm.Uniform('p1', 0, 1)\n",
    "    p_00_var = pm.Beta('p00', alpha=a_00, beta=b_00, shape=n_cfers)\n",
    "    p_11_var = pm.Beta('p11', alpha=a_11, beta=b_11, shape=n_cfers)\n",
    "    \n",
    "    #the \"real\" data\n",
    "    true_class = pm.Bernoulli('true_class', p_1, shape=n_obj)\n",
    "    N_1_true = pm.Deterministic('N1true', TT.sum(true_class))\n",
    "    p_obs_1 = TT.switch(TT.eq(true_class[obj_ids], 1), p_11_var[cfer_ids], 1-p_00_var[cfer_ids])\n",
    "    observed = pm.Bernoulli('observed', p_obs_1, observed=obs_classes)\n",
    "    "
   ]
  },
  {
   "cell_type": "code",
   "execution_count": null,
   "metadata": {},
   "outputs": [
    {
     "name": "stderr",
     "output_type": "stream",
     "text": [
      "Multiprocess sampling (4 chains in 4 jobs)\n",
      "CompoundStep\n",
      ">NUTS: [p11, p00, p1]\n",
      ">BinaryGibbsMetropolis: [true_class]\n",
      "Sampling 4 chains, 0 divergences: 100%|██████████| 22000/22000 [02:09<00:00, 170.30draws/s]\n"
     ]
    }
   ],
   "source": [
    "with explicit_model:\n",
    "    trace = pm.sample(draws=5000)\n",
    "    \n",
    "# Needed to add in a function that will output merger fraction, error on merger fraction, probability per galaxy, error on probability per galaxy.\n",
    "# Make the call similar to the get_merger_probability call...\n",
    "\n",
    "# turn this into get_merger_prob2(Mhats, r_Ms, r_Is) to output the merger fraction, error on merger fraction, prob per galaxy, err on prob per gal.\n",
    "\n",
    "def get_merger_prob(Mhats, r_Ms, r_Is):\n",
    "    '''\n",
    "    Given people's mesurements, Mhat, and their accuracy at making measurements,\n",
    "    r_M and r_I, we can get the probability that a given galaxy is a merger.\n",
    "    '''\n",
    "\n",
    "    P_M = 1\n",
    "    P_I = 1\n",
    "    for i in range(len(Mhats)):\n",
    "        if Mhats[i] == 0:\n",
    "            # the surveyor measured an isolated galaxy\n",
    "            # probability that we measured isolated galaxy given that it's a\n",
    "            # merger\n",
    "            P_Ihat_M = 1-r_Ms[i]\n",
    "            # probability that we measured isolated galaxy given that it's\n",
    "            # isolated\n",
    "            P_Ihat_I = r_Is[i]\n",
    "            P_M *= P_Ihat_M\n",
    "            P_I *= P_Ihat_I\n",
    "        else:\n",
    "            # the surveyor measured a merger\n",
    "            # probability that we measured merger galaxy given that it's a\n",
    "            # merger\n",
    "            P_Mhat_M = r_Ms[i]\n",
    "            # probability that we measured a merger given that it's\n",
    "            # isolated\n",
    "            P_Mhat_I = 1-r_Is[i]\n",
    "            P_M *= P_Mhat_M\n",
    "            P_I *= P_Mhat_I\n",
    "    return P_M/(P_M+P_I)\n",
    "\n"
   ]
  },
  {
   "cell_type": "code",
   "execution_count": null,
   "metadata": {},
   "outputs": [],
   "source": [
    "with explicit_model:\n",
    "    pm.traceplot(trace, var_names=['p1', 'p00', 'p11'])"
   ]
  },
  {
   "cell_type": "code",
   "execution_count": null,
   "metadata": {},
   "outputs": [],
   "source": [
    "true.sum(), p_1_true"
   ]
  },
  {
   "cell_type": "code",
   "execution_count": null,
   "metadata": {},
   "outputs": [],
   "source": [
    "cfer_probs[:, 1], cfer_probs[:, 0],"
   ]
  },
  {
   "cell_type": "code",
   "execution_count": null,
   "metadata": {},
   "outputs": [],
   "source": [
    "obs.shape"
   ]
  },
  {
   "cell_type": "code",
   "execution_count": null,
   "metadata": {},
   "outputs": [],
   "source": [
    "tc_samples = trace.get_values('true_class')\n",
    "plt.hist(tc_samples.mean(axis=0))"
   ]
  },
  {
   "cell_type": "code",
   "execution_count": null,
   "metadata": {},
   "outputs": [],
   "source": [
    "(tc_samples.mean(axis=0) > 0.5).mean() "
   ]
  },
  {
   "cell_type": "code",
   "execution_count": null,
   "metadata": {},
   "outputs": [],
   "source": []
  }
 ],
 "metadata": {
  "kernelspec": {
   "display_name": "Python 3 (Anaconda)",
   "language": "python",
   "name": "python3-anaconda"
  },
  "language_info": {
   "codemirror_mode": {
    "name": "ipython",
    "version": 3
   },
   "file_extension": ".py",
   "mimetype": "text/x-python",
   "name": "python",
   "nbconvert_exporter": "python",
   "pygments_lexer": "ipython3",
   "version": "3.7.4"
  }
 },
 "nbformat": 4,
 "nbformat_minor": 4
}
