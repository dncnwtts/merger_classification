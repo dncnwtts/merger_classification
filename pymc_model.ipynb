{
 "cells": [
  {
   "cell_type": "code",
   "execution_count": 1,
   "metadata": {},
   "outputs": [],
   "source": [
    "%matplotlib inline\n",
    "import numpy as np\n",
    "import matplotlib.pyplot as plt\n",
    "from scipy.stats import binom\n",
    "from scipy.special import logsumexp\n",
    "import pymc3 as pm\n",
    "import theano.tensor as TT\n",
    "import accuracy_analysis as aa\n",
    "from corner import corner"
   ]
  },
  {
   "cell_type": "code",
   "execution_count": 2,
   "metadata": {},
   "outputs": [],
   "source": [
    "def make_sample(N, f_M, r_Ms, r_Is, seed=None):\n",
    "    np.random.seed(seed)\n",
    "    true_gals = np.random.choice([0,1], size=N, p=[1-f_M, f_M])\n",
    "    f_M_sample = true_gals.sum()/N\n",
    "    N_true = true_gals.sum()\n",
    "    \n",
    "    n = len(r_Ms)\n",
    "    \n",
    "\n",
    "    # Matrix of classifier answers\n",
    "    m = np.zeros((n, N), dtype='int')\n",
    "    for i in range(n):\n",
    "        for j in range(N):\n",
    "            if true_gals[j] == 0:\n",
    "                m[i,j] = np.random.choice([0,1], p=[r_Is[i], 1-r_Is[i]])\n",
    "            elif true_gals[j] == 1:\n",
    "                m[i,j] = np.random.choice([0,1], p=[1-r_Ms[i], r_Ms[i]])\n",
    "\n",
    "    \n",
    "    return N_true, m, true_gals"
   ]
  },
  {
   "cell_type": "code",
   "execution_count": 3,
   "metadata": {},
   "outputs": [],
   "source": [
    "def make_flat(observations):\n",
    "    n_cfers, n_obj = observations.shape\n",
    "    obs_flat = observations.ravel()\n",
    "    \n",
    "    cfer_ids = np.zeros([n_cfers, n_obj], dtype='int')\n",
    "    for i in range(n_cfers):\n",
    "        cfer_ids[i] = i\n",
    "    cfer_ids = cfer_ids.ravel()\n",
    "    \n",
    "    obj_ids = np.zeros([n_cfers, n_obj], dtype='int')\n",
    "    for j in range(n_obj):\n",
    "        obj_ids[:, j] = j\n",
    "    obj_ids = obj_ids.ravel()\n",
    "    \n",
    "    return obs_flat, obj_ids, cfer_ids"
   ]
  },
  {
   "cell_type": "code",
   "execution_count": 4,
   "metadata": {},
   "outputs": [],
   "source": [
    "def get_beta_pars(truths, observed):\n",
    "    t0 = (truths==0)\n",
    "    t1 = (truths==1)\n",
    "    o0 = (observed==0)\n",
    "    o1 = (observed==1)\n",
    "    \n",
    "    a_00 = np.count_nonzero(t0 & o0, axis=1) + 1\n",
    "    b_00 = np.count_nonzero(t0 & o1, axis=1) + 1\n",
    "    b_11 = np.count_nonzero(t1 & o0, axis=1) + 1\n",
    "    a_11 = np.count_nonzero(t1 & o1, axis=1) + 1\n",
    "    \n",
    "    return a_00, b_00, a_11, b_11\n"
   ]
  },
  {
   "cell_type": "code",
   "execution_count": 5,
   "metadata": {},
   "outputs": [],
   "source": [
    "def get_chains(obs, obs_train, true_train):\n",
    "    '''\n",
    "    these arrays are n_galaxies x n_classifiers, and are 0 for isolated, 1 for merger.\n",
    "    '''\n",
    "    obs_classes, obj_ids, cfer_ids = make_flat(obs)\n",
    "    a_00, b_00, a_11, b_11 = get_beta_pars(true_train, obs_train) \n",
    "    \n",
    "    n_cfers, n_obj = obs.shape\n",
    "    \n",
    "    with pm.Model() as explicit_model:\n",
    "        f_M  = pm.Beta('fM', alpha=0.5, beta=0.5)\n",
    "        r_Is = pm.Beta('rI', alpha=a_00, beta=b_00, shape=n_cfers)\n",
    "        r_Ms = pm.Beta('rM', alpha=a_11, beta=b_11, shape=n_cfers)\n",
    "    \n",
    "        #the \"real\" data\n",
    "        true_class = pm.Bernoulli('true_class', f_M, shape=n_obj)\n",
    "        N_M_true = pm.Deterministic('N_M', TT.sum(true_class))\n",
    "        p_obs_1 = TT.switch(TT.eq(true_class[obj_ids], 1), r_Ms[cfer_ids], 1-r_Is[cfer_ids])\n",
    "        observed = pm.Bernoulli('observed', p_obs_1, observed=obs_classes)\n",
    "\n",
    "    with explicit_model:\n",
    "        trace = pm.sample(draws=5000)\n",
    "\n",
    "    return trace.get_values('fM'), trace.get_values('rI'), trace.get_values('rM'), trace.get_values('true_class')"
   ]
  },
  {
   "cell_type": "code",
   "execution_count": 6,
   "metadata": {},
   "outputs": [],
   "source": [
    "from scipy.special import beta as Beta\n",
    "\n",
    "def make_obs(n_cfers=2, seed=0, f_M_true=0.2, f_M_train=0.5, n_obj=200, n_train=20):\n",
    "    np.random.seed(seed)\n",
    "    cfer_probs = np.random.uniform(low=0.5, high=0.9, size=n_cfers*2).reshape(-1,2)\n",
    "\n",
    "    r_Is = cfer_probs[:, 0]\n",
    "    r_Ms = cfer_probs[:, 1]\n",
    "\n",
    "    true, obs, true_samp = make_sample(n_obj, f_M_true, r_Ms, r_Is, seed=1234)\n",
    "\n",
    "    true_train, obs_train, true_samp_train = make_sample(n_train, f_M_train, r_Ms, r_Is, seed=123)\n",
    "    return obs, true, obs_train, true_train, true_samp\n",
    "\n",
    "def analyze_sim_sample(obs, obs_train, true_train, true_samp):\n",
    "\n",
    "    f_Ms, r_Is, r_Ms, classif = get_chains(obs, obs_train, true_train)\n",
    "\n",
    "    plt.figure()\n",
    "\n",
    "    plt.hist(f_Ms, bins=np.linspace(0,1,101), density=True)\n",
    "    plt.xlabel(r'$f_M$')\n",
    "    print(np.percentile(f_Ms, [16, 50, 84]))\n",
    "    n_cfers, n_obj = obs.shape\n",
    "    \n",
    "    # Binomial distribution assuming that all of the galaxies were classified perfectly\n",
    "    # Fundamental limit to which a sample's merger fraction can be determined.\n",
    "    #alpha=int(np.median(f_Ms)*n_obj)+1\n",
    "    #beta = n_obj-true+1\n",
    "    #p = np.linspace(0, 0.5, 1000)\n",
    "    #plt.plot(p,p**(alpha-1)*(1-p)**(beta-1)/Beta(alpha,beta))\n",
    "    \n",
    "    p_Ms = np.zeros((1000, n_obj))\n",
    "    p_Ms = []\n",
    "    for k in np.random.choice(np.arange(len(f_Ms)), size=1000):\n",
    "        for j in range(n_obj):\n",
    "            num = 1\n",
    "            den_I = 1\n",
    "            den_M = 1\n",
    "            for i in range(n_cfers):\n",
    "                if obs[i,j] == 0:\n",
    "                    num *= (1-r_Ms[k,i])\n",
    "                    den_M *= (1-r_Ms[k,i])\n",
    "                    den_I *= r_Is[k,i]\n",
    "                else:\n",
    "                    num *= r_Ms[k,i]\n",
    "                    den_M *= r_Ms[k,i]\n",
    "                    den_I *= (1-r_Ms[k,i])\n",
    "            p_Ms.append(num*f_Ms[k]/(den_M*f_Ms[k]+den_I*(1-f_Ms[k])))\n",
    "    p_Ms = np.array(p_Ms)\n",
    "    p_Ms = p_Ms.reshape(-1, n_obj)\n",
    "    \n",
    "    inds = ()\n",
    "    plt.figure(figsize=(12,4))\n",
    "    yll, mu, yul = np.percentile(p_Ms, [16,50,68], axis=0)\n",
    "    inds = (true_samp == 0)\n",
    "    plt.errorbar(np.arange(n_obj)[inds], mu[inds], yerr=[mu[inds]-yll[inds], yul[inds]-mu[inds]], fmt='.')\n",
    "    inds = (true_samp == 1)\n",
    "    plt.errorbar(np.arange(n_obj)[inds], mu[inds], yerr=[mu[inds]-yll[inds], yul[inds]-mu[inds]], fmt='.')\n",
    "    plt.xlabel('Galaxy index')\n",
    "    plt.ylabel(r'$p_M$')\n",
    "    \n",
    "    p_Ms = np.zeros((1000, n_obj))\n",
    "    p_Ms = []\n",
    "    for k in np.random.choice(np.arange(len(f_Ms)), size=1000):\n",
    "        for j in range(n_obj):\n",
    "            num = 1\n",
    "            den_I = 1\n",
    "            den_M = 1\n",
    "            for i in range(n_cfers):\n",
    "                if obs[i,j] == 0:\n",
    "                    num *= (1-r_Ms[k,i])\n",
    "                    den_M *= (1-r_Ms[k,i])\n",
    "                    den_I *= r_Is[k,i]\n",
    "                else:\n",
    "                    num *= r_Ms[k,i]\n",
    "                    den_M *= r_Ms[k,i]\n",
    "                    den_I *= (1-r_Ms[k,i])\n",
    "            p_Ms.append(num/(den_M+den_I))\n",
    "    p_Ms = np.array(p_Ms)\n",
    "    p_Ms = p_Ms.reshape(-1, n_obj)\n",
    "\n",
    "    plt.figure(figsize=(12,4))\n",
    "    yll, mu, yul = np.percentile(p_Ms, [16,50,68], axis=0)\n",
    "    inds = (true_samp == 0)\n",
    "    plt.errorbar(np.arange(n_obj)[inds], mu[inds], yerr=[mu[inds]-yll[inds], yul[inds]-mu[inds]], fmt='.')\n",
    "    inds = (true_samp == 1)\n",
    "    plt.errorbar(np.arange(n_obj)[inds], mu[inds], yerr=[mu[inds]-yll[inds], yul[inds]-mu[inds]], fmt='.')\n",
    "    plt.xlabel('Galaxy index')\n",
    "    plt.ylabel(r'$p_M$')\n",
    "    plt.title('Flat prior')\n",
    "    return f_Ms, r_Is, r_Ms, classif"
   ]
  },
  {
   "cell_type": "code",
   "execution_count": 17,
   "metadata": {},
   "outputs": [],
   "source": [
    "def analyze_sample(obs, obs_train, true_train):\n",
    "\n",
    "    f_Ms, r_Is, r_Ms, classif = get_chains(obs, obs_train, true_train)\n",
    "\n",
    "    plt.figure()\n",
    "\n",
    "    plt.hist(f_Ms, bins=np.linspace(0,1,101), density=True)\n",
    "    plt.xlabel(r'$f_M$')\n",
    "    print(np.percentile(f_Ms, [16, 50, 84]))\n",
    "    n_cfers, n_obj = obs.shape\n",
    "    \n",
    "    # Binomial distribution assuming that all of the galaxies were classified perfectly\n",
    "    # Fundamental limit to which a sample's merger fraction can be determined.\n",
    "    #alpha=int(np.median(f_Ms)*n_obj)+1\n",
    "    #beta = n_obj-true+1\n",
    "    #p = np.linspace(0, 0.5, 1000)\n",
    "    #plt.plot(p,p**(alpha-1)*(1-p)**(beta-1)/Beta(alpha,beta))\n",
    "    \n",
    "    p_Ms = np.zeros((1000, n_obj))\n",
    "    p_Ms = []\n",
    "    for k in np.random.choice(np.arange(len(f_Ms)), size=1000):\n",
    "        for j in range(n_obj):\n",
    "            num = 1\n",
    "            den_I = 1\n",
    "            den_M = 1\n",
    "            for i in range(n_cfers):\n",
    "                if obs[i,j] == 0:\n",
    "                    num *= (1-r_Ms[k,i])\n",
    "                    den_M *= (1-r_Ms[k,i])\n",
    "                    den_I *= r_Is[k,i]\n",
    "                else:\n",
    "                    num *= r_Ms[k,i]\n",
    "                    den_M *= r_Ms[k,i]\n",
    "                    den_I *= (1-r_Ms[k,i])\n",
    "            p_Ms.append(num*f_Ms[k]/(den_M*f_Ms[k]+den_I*(1-f_Ms[k])))\n",
    "    p_Ms = np.array(p_Ms)\n",
    "    p_Ms = p_Ms.reshape(-1, n_obj)\n",
    "    \n",
    "    inds = ()\n",
    "    plt.figure(figsize=(12,4))\n",
    "    yll, mu, yul = np.percentile(p_Ms, [16,50,68], axis=0)\n",
    "    plt.errorbar(np.arange(n_obj), mu, yerr=[mu-yll, yul-mu], fmt='.')\n",
    "    plt.xlabel('Galaxy index')\n",
    "    plt.ylabel(r'$p_M$')\n",
    "    \n",
    "    p_Ms = np.zeros((1000, n_obj))\n",
    "    p_Ms = []\n",
    "    for k in np.random.choice(np.arange(len(f_Ms)), size=1000):\n",
    "        for j in range(n_obj):\n",
    "            num = 1\n",
    "            den_I = 1\n",
    "            den_M = 1\n",
    "            for i in range(n_cfers):\n",
    "                if obs[i,j] == 0:\n",
    "                    num *= (1-r_Ms[k,i])\n",
    "                    den_M *= (1-r_Ms[k,i])\n",
    "                    den_I *= r_Is[k,i]\n",
    "                else:\n",
    "                    num *= r_Ms[k,i]\n",
    "                    den_M *= r_Ms[k,i]\n",
    "                    den_I *= (1-r_Ms[k,i])\n",
    "            p_Ms.append(num/(den_M+den_I))\n",
    "    p_Ms = np.array(p_Ms)\n",
    "    p_Ms = p_Ms.reshape(-1, n_obj)\n",
    "\n",
    "    plt.figure(figsize=(12,4))\n",
    "    yll, mu, yul = np.percentile(p_Ms, [16,50,68], axis=0)\n",
    "    plt.errorbar(np.arange(n_obj), mu, yerr=[mu-yll, yul-mu], fmt='.')\n",
    "    plt.xlabel('Galaxy index')\n",
    "    plt.ylabel(r'$p_M$')\n",
    "    plt.title('Flat prior')\n",
    "    return f_Ms, r_Is, r_Ms, classif"
   ]
  },
  {
   "cell_type": "code",
   "execution_count": 8,
   "metadata": {},
   "outputs": [],
   "source": [
    "obs, true, obs_train, true_train, true_samp = make_obs(n_cfers=14, n_obj=193, n_train=41)\n",
    "# Here we are simulating a fake set of observations\n",
    "# First, there are the true sets of observation, obs.\n",
    "# Second, there is the true total number of mergers, true. Should not be used for analysis.\n",
    "# Third, obs_train, the observations of the mock galaxies.\n",
    "# Fourth, true_train, the true total number of mergers in the training sample\n",
    "# Finally, there is true_samp, the actual set of mergers in the real sample."
   ]
  },
  {
   "cell_type": "code",
   "execution_count": 9,
   "metadata": {},
   "outputs": [
    {
     "name": "stderr",
     "output_type": "stream",
     "text": [
      "Multiprocess sampling (4 chains in 4 jobs)\n",
      "CompoundStep\n",
      ">NUTS: [rM, rI, fM]\n",
      ">BinaryGibbsMetropolis: [true_class]\n",
      "Sampling 4 chains, 0 divergences: 100%|██████████| 22000/22000 [05:35<00:00, 65.50draws/s] \n"
     ]
    },
    {
     "name": "stdout",
     "output_type": "stream",
     "text": [
      "[0.16357291 0.19377801 0.22649738]\n"
     ]
    },
    {
     "data": {
      "image/png": "[encoded data removed]",
      "text/plain": [
       "<Figure size 432x288 with 1 Axes>"
      ]
     },
     "metadata": {
      "needs_background": "light"
     },
     "output_type": "display_data"
    },
    {
     "data": {
      "image/png": "[encoded data removed]",
      "text/plain": [
       "<Figure size 864x288 with 1 Axes>"
      ]
     },
     "metadata": {
      "needs_background": "light"
     },
     "output_type": "display_data"
    },
    {
     "data": {
      "image/png": "[encoded data removed]",
      "text/plain": [
       "<Figure size 864x288 with 1 Axes>"
      ]
     },
     "metadata": {
      "needs_background": "light"
     },
     "output_type": "display_data"
    }
   ],
   "source": [
    "f_Ms, r_Is, r_Ms, classif = analyze_sim_sample(obs, obs_train, true_train, true_samp)"
   ]
  },
  {
   "cell_type": "code",
   "execution_count": 10,
   "metadata": {},
   "outputs": [
    {
     "data": {
      "text/plain": [
       "<matplotlib.image.AxesImage at 0x7f5311402210>"
      ]
     },
     "execution_count": 10,
     "metadata": {},
     "output_type": "execute_result"
    },
    {
     "data": {
      "image/png": "[encoded data removed]",
      "text/plain": [
       "<Figure size 432x288 with 1 Axes>"
      ]
     },
     "metadata": {
      "needs_background": "light"
     },
     "output_type": "display_data"
    }
   ],
   "source": [
    "#f_Ms, r_Is, r_Ms, classif\n",
    "bla = np.hstack((f_Ms[:,None], r_Ms, r_Is))\n",
    "C = np.cov(bla.T)\n",
    "\n",
    "diag = np.diag(C)\n",
    "rho = C/np.outer(diag,diag)**0.5\n",
    "plt.imshow(rho-np.eye(rho.shape[1]), vmin=-0.1, vmax=0.1, cmap='RdBu_r')"
   ]
  },
  {
   "cell_type": "code",
   "execution_count": 11,
   "metadata": {},
   "outputs": [
    {
     "data": {
      "image/png": "[encoded data removed]",
      "text/plain": [
       "<Figure size 432x288 with 1 Axes>"
      ]
     },
     "metadata": {
      "needs_background": "light"
     },
     "output_type": "display_data"
    }
   ],
   "source": [
    "#for mock data with real classifiers\n",
    "import pandas as pd \n",
    "df_full = pd.read_hdf('df_full_04272020.hdf5','table')\n",
    "df_mock = pd.read_csv('mock_question_key.csv')\n",
    "\n",
    "\n",
    "\n",
    "merger = ['MaM', 'MaD', 'MiM']\n",
    "\n",
    "not_fake_indexes = df_mock.mock_question_num[df_mock.type != 'f'].sort_values().values\n",
    "\n",
    "survey_index = df_full.set_type[not_fake_indexes].index\n",
    "obs_train = np.zeros((14, len(survey_index)))\n",
    "for i in range(len(survey_index)):\n",
    "    k = survey_index[i]\n",
    "    s = df_full.loc[k][2::2]\n",
    "    for j in range(14):\n",
    "        if s[j] in merger:\n",
    "             obs_train[j,i] = 1\n",
    "\n",
    "plt.spy(obs_train)\n",
    "inds = np.arange(41)\n",
    "true_samp = np.zeros(41)\n",
    "\n",
    "merger = ['m']\n",
    "for i in range(len(survey_index)):\n",
    "    k = survey_index[i]\n",
    "    s = df_mock.type[df_mock.mock_question_num == k]\n",
    "    if s.values in merger:\n",
    "        true_samp[i] = 1\n",
    "                \n",
    "true_train = int(sum(true_samp))"
   ]
  },
  {
   "cell_type": "code",
   "execution_count": 12,
   "metadata": {},
   "outputs": [],
   "source": [
    "k = 0\n",
    "for i in range(len(df_full.set_type)):\n",
    "    if i in survey_index:\n",
    "        k += 1\n",
    "        \n",
    "merger = ['MaM', 'MaD', 'MiM']\n",
    "\n",
    "obs = np.zeros((14, len(df_full.set_type)))\n",
    "k = 0\n",
    "for i in range(1, len(df_full.set_type)):\n",
    "    s = df_full.loc[i][2::2]\n",
    "    for j in range(14):\n",
    "        if s[j] in merger:\n",
    "            obs[j,i] = 1\n"
   ]
  },
  {
   "cell_type": "code",
   "execution_count": 18,
   "metadata": {},
   "outputs": [
    {
     "name": "stderr",
     "output_type": "stream",
     "text": [
      "Multiprocess sampling (4 chains in 4 jobs)\n",
      "CompoundStep\n",
      ">NUTS: [rM, rI, fM]\n",
      ">BinaryGibbsMetropolis: [true_class]\n",
      "Sampling 4 chains, 0 divergences: 100%|██████████| 22000/22000 [05:47<00:00, 63.24draws/s] \n"
     ]
    },
    {
     "name": "stdout",
     "output_type": "stream",
     "text": [
      "[0.4579948  0.49493909 0.53137914]\n"
     ]
    },
    {
     "data": {
      "image/png": "[encoded data removed]",
      "text/plain": [
       "<Figure size 432x288 with 1 Axes>"
      ]
     },
     "metadata": {
      "needs_background": "light"
     },
     "output_type": "display_data"
    },
    {
     "data": {
      "image/png": "[encoded data removed]",
      "text/plain": [
       "<Figure size 864x288 with 1 Axes>"
      ]
     },
     "metadata": {
      "needs_background": "light"
     },
     "output_type": "display_data"
    },
    {
     "data": {
      "image/png": "[encoded data removed]",
      "text/plain": [
       "<Figure size 864x288 with 1 Axes>"
      ]
     },
     "metadata": {
      "needs_background": "light"
     },
     "output_type": "display_data"
    }
   ],
   "source": [
    "f_Ms, r_Is, r_Ms, classif = analyze_sample(obs, obs_train, true_train)"
   ]
  },
  {
   "cell_type": "code",
   "execution_count": 19,
   "metadata": {},
   "outputs": [
    {
     "data": {
      "text/plain": [
       "<matplotlib.colorbar.Colorbar at 0x7f5365534dd0>"
      ]
     },
     "execution_count": 19,
     "metadata": {},
     "output_type": "execute_result"
    },
    {
     "data": {
      "image/png": "[encoded data removed]",
      "text/plain": [
       "<Figure size 432x288 with 2 Axes>"
      ]
     },
     "metadata": {
      "needs_background": "light"
     },
     "output_type": "display_data"
    }
   ],
   "source": [
    "#f_Ms, r_Is, r_Ms, classif\n",
    "bla = np.hstack((f_Ms[:,None], r_Ms, r_Is))\n",
    "C = np.cov(bla.T)\n",
    "\n",
    "diag = np.diag(C)\n",
    "rho = C/np.outer(diag,diag)**0.5\n",
    "plt.imshow(rho-np.eye(rho.shape[1]), vmin=-0.1, vmax=0.1, cmap='RdBu_r')\n",
    "plt.colorbar()"
   ]
  },
  {
   "cell_type": "code",
   "execution_count": 20,
   "metadata": {},
   "outputs": [
    {
     "data": {
      "text/plain": [
       "[<matplotlib.lines.Line2D at 0x7f53654b1510>]"
      ]
     },
     "execution_count": 20,
     "metadata": {},
     "output_type": "execute_result"
    },
    {
     "data": {
      "image/png": "[encoded data removed]",
      "text/plain": [
       "<Figure size 432x288 with 1 Axes>"
      ]
     },
     "metadata": {
      "needs_background": "light"
     },
     "output_type": "display_data"
    }
   ],
   "source": [
    "plt.plot(bla.mean(axis=0), '.')"
   ]
  },
  {
   "cell_type": "code",
   "execution_count": 21,
   "metadata": {},
   "outputs": [
    {
     "data": {
      "text/plain": [
       "24"
      ]
     },
     "execution_count": 21,
     "metadata": {},
     "output_type": "execute_result"
    }
   ],
   "source": [
    "true_train"
   ]
  },
  {
   "cell_type": "code",
   "execution_count": null,
   "metadata": {},
   "outputs": [],
   "source": []
  }
 ],
 "metadata": {
  "kernelspec": {
   "display_name": "Python 3 (Anaconda)",
   "language": "python",
   "name": "python3-anaconda"
  },
  "language_info": {
   "codemirror_mode": {
    "name": "ipython",
    "version": 3
   },
   "file_extension": ".py",
   "mimetype": "text/x-python",
   "name": "python",
   "nbconvert_exporter": "python",
   "pygments_lexer": "ipython3",
   "version": "3.7.4"
  }
 },
 "nbformat": 4,
 "nbformat_minor": 4
}
