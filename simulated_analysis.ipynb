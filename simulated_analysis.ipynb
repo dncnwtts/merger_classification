{
 "cells": [
  {
   "cell_type": "code",
   "execution_count": 1,
   "metadata": {},
   "outputs": [],
   "source": [
    "%matplotlib inline\n",
    "import matplotlib.pyplot as plt\n",
    "import numpy as np\n",
    "\n",
    "from scipy.stats import binom, multinomial, beta, dirichlet\n",
    "\n",
    "plot_all_lines = False\n",
    "import warnings\n",
    "warnings.simplefilter('error', RuntimeWarning)\n"
   ]
  },
  {
   "cell_type": "code",
   "execution_count": 2,
   "metadata": {},
   "outputs": [],
   "source": [
    "# Total sample size\n",
    "N = 193\n",
    "# True merger fraction\n",
    "f_M = 0.4\n",
    "\n",
    "\n",
    "# Realization of sample, where index 0 is isolated, 1 is a merger.\n",
    "#true_gals = binom.rvs(1, f_M, size=N)\n",
    "np.random.seed(0)\n",
    "true_gals = np.random.choice([0,1], size=N, p=[1-f_M, f_M])\n",
    "f_M_sample = true_gals.sum()/N"
   ]
  },
  {
   "cell_type": "code",
   "execution_count": 3,
   "metadata": {},
   "outputs": [],
   "source": [
    "# Number of classifiers\n",
    "n = 14\n",
    "np.random.seed(0)\n",
    "# Classifier accuracy at identifying mergers\n",
    "r_Ms = np.random.uniform(low=0.5, high=0.8, size=n)\n",
    "# Classifier accuracy at identifying isolated galaxies\n",
    "r_Is = np.random.uniform(low=0.6, high=0.9, size=n)"
   ]
  },
  {
   "cell_type": "code",
   "execution_count": 4,
   "metadata": {},
   "outputs": [],
   "source": [
    "# Matrix of classifier answers\n",
    "m = np.zeros((n, N), dtype='int')\n",
    "np.random.seed(0)\n",
    "for i in range(n):\n",
    "    for j in range(N):\n",
    "        if true_gals[j] == 0:\n",
    "            m[i,j] = np.random.choice([0,1], p=[r_Is[i], 1-r_Is[i]])\n",
    "        elif true_gals[j] == 1:\n",
    "            m[i,j] = np.random.choice([0,1], p=[1-r_Ms[i], r_Ms[i]])\n"
   ]
  },
  {
   "cell_type": "code",
   "execution_count": null,
   "metadata": {},
   "outputs": [
    {
     "data": {
      "text/plain": [
       "Text(0, 0.5, '$\\\\mathrm{Isolated\\\\to Merger}$')"
      ]
     },
     "execution_count": 5,
     "metadata": {},
     "output_type": "execute_result"
    }
   ],
   "source": [
    "gal_inds = np.arange(N)\n",
    "plt.plot(gal_inds[true_gals==0], m[:,true_gals==0].mean(axis=0), 'C0.', label='True Isolated')\n",
    "plt.plot(gal_inds[true_gals==1], m[:,true_gals==1].mean(axis=0), 'C1.', label='True Merger')\n",
    "plt.legend(loc='best')\n",
    "plt.ylim(0, 1)\n",
    "plt.xlabel('Galaxy Index')\n",
    "plt.ylabel(r'$\\mathrm{Isolated\\to Merger}$')"
   ]
  },
  {
   "cell_type": "code",
   "execution_count": null,
   "metadata": {},
   "outputs": [],
   "source": [
    "class_inds = np.arange(n)\n",
    "N_M = m.sum(axis=1)\n",
    "plt.plot(class_inds, N_M, '.')\n",
    "plt.axhline(sum(true_gals), label='Number of mergers in sample')\n",
    "plt.xlabel('Classifier Index')\n",
    "plt.ylabel('Number of Mergers Identified')\n",
    "plt.legend(loc='best')"
   ]
  },
  {
   "cell_type": "code",
   "execution_count": null,
   "metadata": {},
   "outputs": [],
   "source": [
    "plt.plot(class_inds, N_M/N, '.')\n",
    "plt.axhline(f_M, label='True underlying merger fraction', color='C1', linestyle='--')\n",
    "plt.axhline(f_M_sample, label=\"Sample's merger fraction\", color='C2', linestyle=':')\n",
    "plt.xlabel('Classifier Index')\n",
    "plt.ylabel('Merger fraction')\n",
    "plt.legend(loc='best')"
   ]
  },
  {
   "cell_type": "markdown",
   "metadata": {},
   "source": [
    "Everything above was simulating the data. From here on out we will evaluate the likelihoods."
   ]
  },
  {
   "cell_type": "code",
   "execution_count": null,
   "metadata": {},
   "outputs": [],
   "source": [
    "from scipy.special import binom, loggamma\n",
    "def logbinom(n, k):\n",
    "    return loggamma(n+1) - loggamma(k+1) - loggamma(n-k+1)\n",
    "    \n",
    "def f_b(k, n, p, thresh=100):\n",
    "    # k is an integer, n is an array\n",
    "    '''\n",
    "    binom_std = binom(n,k)*p**k*(1-p)**(n-k)\n",
    "    #binom_std = np.where(k/n < 0.001, np.exp(logbinom_klln(n,k)), binom_std)\n",
    "    return binom_std\n",
    "    '''\n",
    "    if type(n) == np.ndarray:\n",
    "        logf1 = np.zeros(len(n))\n",
    "        logf1[n>thresh] = logbinom(n[n>thresh], k)\n",
    "        b = binom(n[(n<=thresh) & (n > k)],k)\n",
    "        logf1[(n<=thresh) & (n > k)] = np.log(b)\n",
    "    elif n > thresh:\n",
    "        logf1 = logbinom(n, k)\n",
    "    else:\n",
    "        logf1 = np.log(binom(n,k))\n",
    "\n",
    "    logf2 = k*np.log(p)\n",
    "    logf3 = (n-k)*np.log(1-p)\n",
    "    logf_b = logf1+logf2+logf3\n",
    "    return logf_b\n",
    "\n",
    "\n",
    "def L(Ns, rj, rjp, N_M, Ntot):\n",
    "    L = 0\n",
    "    Ns = Ns.astype(int)\n",
    "    for k in range(N_M+1):\n",
    "        L1 = np.zeros(len(Ns))-np.inf\n",
    "        L2 = np.zeros(len(Ns))-np.inf\n",
    "        inds = ((Ns >= k) & (Ntot-Ns >= N_M-k))\n",
    "        L1[inds] = f_b(k, Ns[inds], rj)\n",
    "        L2[inds] = f_b(N_M-k, Ntot-Ns[inds], 1-rjp)\n",
    "        L += np.exp(L1+L2)\n",
    "    return L"
   ]
  },
  {
   "cell_type": "code",
   "execution_count": null,
   "metadata": {},
   "outputs": [],
   "source": [
    "Ns = np.linspace(1, N, 10*N)\n",
    "if plot_all_lines:\n",
    "    for i in range(n):\n",
    "        plt.plot(Ns, L(Ns, r_Ms[i], r_Is[i], N_M[i], N), color=plt.cm.viridis(i/n))\n",
    "    plt.xlabel(r'Estimated true underlying mergers $N_M$')\n",
    "    plt.axvline(true_gals.sum(), label='True underlying number of galaxies', color='C1', linestyle='--')\n",
    "#plt.xlim([0, 200])"
   ]
  },
  {
   "cell_type": "code",
   "execution_count": null,
   "metadata": {},
   "outputs": [],
   "source": [
    "plt.figure()\n",
    "lnLi = L(Ns, r_Ms[i], r_Is[i], N_M[i], N)*0\n",
    "\n",
    "for i in range(n):\n",
    "    lnLi += np.log(L(Ns, r_Ms[i], r_Is[i], N_M[i], N))\n",
    "plt.plot(Ns, np.exp(lnLi-lnLi.max()),  label='Final Posterior Distribution', lw=4)\n",
    "plt.fill_betweenx(plt.gca().get_ylim(), N_M.mean()-N_M.std(), N_M.mean()+N_M.std(), alpha=0.5, \n",
    "                  color='gray', label=r'Width of classifier means')\n",
    "plt.axvline(true_gals.sum(), label='True underlying number of galaxies', color='C1', linestyle='--')\n",
    "plt.legend(loc='best')\n",
    "plt.xlabel(r'Estimated true underlying mergers $N_M$')\n",
    "plt.xlim(0.9*(N_M.mean()-N_M.std()), 1.1*(N_M.mean()+N_M.std()))"
   ]
  },
  {
   "cell_type": "markdown",
   "metadata": {},
   "source": [
    "# Likelihood for merger fraction"
   ]
  },
  {
   "cell_type": "code",
   "execution_count": null,
   "metadata": {},
   "outputs": [],
   "source": [
    "f_Ms = np.linspace(0, 1, 1000)\n",
    "if plot_all_lines:\n",
    "    for i in range(n):\n",
    "        plt.plot(f_Ms, L(f_Ms*N, r_Ms[i], r_Is[i], N_M[i], N), color=plt.cm.viridis(i/n))\n",
    "    plt.axvline(f_M, label='True underlying merger fraction', color='C1', linestyle='--')\n",
    "    plt.axvline(f_M_sample, label=\"Sample's merger fraction\", color='C2', linestyle=':')\n",
    "    plt.legend(loc='best')\n",
    "    plt.xlabel('Merger fraction')"
   ]
  },
  {
   "cell_type": "code",
   "execution_count": null,
   "metadata": {},
   "outputs": [],
   "source": [
    "plt.figure()\n",
    "lnLi = L(f_Ms, r_Ms[i], r_Is[i], N_M[i], N)*0\n",
    "\n",
    "for i in range(n):\n",
    "    lnLi += np.log(L(f_Ms*N, r_Ms[i], r_Is[i], N_M[i], N))\n",
    "plt.plot(f_Ms, np.exp(lnLi-lnLi.max()),  label='Final Posterior Distribution')\n",
    "ylim = plt.gca().get_ylim(),\n",
    "plt.fill_betweenx(plt.gca().get_ylim(), (N_M.mean()-N_M.std())/N, (N_M.mean()+N_M.std())/N, alpha=0.5, \n",
    "                  color='gray', label=r'Width of classifier means')\n",
    "plt.axvline(f_M, label='True underlying merger fraction', color='C3', linestyle='--')\n",
    "plt.axvline(f_M_sample, label=\"Sample's merger fraction\", color='C1', linestyle=':')\n",
    "plt.legend(loc='best')\n",
    "plt.xlabel(r'Estimated true merger fraction $f_M$')\n",
    "plt.xlim( 0.9*(N_M.mean()-N_M.std())/N, 1.1*(N_M.mean()+N_M.std())/N)"
   ]
  },
  {
   "cell_type": "markdown",
   "metadata": {},
   "source": [
    "# What is the probability of any individual galaxy being in a merger?"
   ]
  },
  {
   "cell_type": "code",
   "execution_count": null,
   "metadata": {},
   "outputs": [],
   "source": [
    "# Actual state of galaxy\n",
    "ind = 0\n",
    "G = true_gals[ind]\n",
    "# Vector of guesses\n",
    "Ghat = m[:,ind]\n",
    "print(Ghat.shape)\n",
    "\n",
    "# We will assume a prior of the true input value.\n",
    "P_G = np.zeros(n)\n",
    "for i in range(n):\n",
    "    den = f_M*r_Ms[i] + (1-f_M)*(1-r_Is[i])\n",
    "    if m[i,ind] == 0:\n",
    "        P_G[i] = f_M*(1-r_Is[i])/den\n",
    "    else:\n",
    "        P_G[i] = f_M*r_Ms[i]/den\n",
    "plt.plot(class_inds, P_G, '.')\n",
    "plt.xlabel('Classifier Index')\n",
    "plt.ylabel(r'Probability of Gal \\#0 being in merger')"
   ]
  },
  {
   "cell_type": "code",
   "execution_count": null,
   "metadata": {},
   "outputs": [],
   "source": [
    "# Prior probability\n",
    "P_M = f_M\n",
    "P_I = 1-f_M\n",
    "# Update prior with each individual's answers\n",
    "for i in range(n):\n",
    "    den = f_M*r_Ms[i] + (1-f_M)*(1-r_Is[i])\n",
    "    if m[i,ind] == 0:\n",
    "        P_M *= (1-r_Is[i])/den\n",
    "    else:\n",
    "        P_M *= r_Ms[i]/den\n",
    "    if m[i,ind] == 0:\n",
    "        P_I *= r_Is[i]/den\n",
    "    else:\n",
    "        P_I *= (1-r_Ms[i])/den\n",
    "\n",
    "print(P_M/(P_M+P_I), P_I/(P_M+P_I))\n",
    "print(G)"
   ]
  },
  {
   "cell_type": "code",
   "execution_count": null,
   "metadata": {},
   "outputs": [],
   "source": [
    "logP_M = np.ones(N)*f_M\n",
    "logP_I = np.ones(N)*(1-f_M)\n",
    "\n",
    "for ind in range(N):\n",
    "    den = 0\n",
    "    for i in range(n):\n",
    "        if m[i,ind] == 0:\n",
    "            logP_M[ind] += (1-r_Is[i])\n",
    "            logP_I[ind] += r_Is[i]\n",
    "        else:\n",
    "            logP_M[ind] += r_Ms[i]\n",
    "            logP_I[ind] += (1-r_Ms[i])\n",
    "        den += f_M*r_Ms[i] + (1-f_M)*(1-r_Is[i])\n",
    "    norm = max(logP_M[ind].max(), logP_I[ind].max())\n",
    "    logP_M[ind] -= norm\n",
    "    logP_I[ind] -= norm\n",
    "P_M = np.exp(logP_M)\n",
    "plt.plot(gal_inds[true_gals==0], P_M[true_gals==0], '.', label='True Isolated')\n",
    "plt.plot(gal_inds[true_gals==1], P_M[true_gals==1], '.', label='True Merger')\n",
    "plt.xlabel('Galaxy Index')\n",
    "plt.ylabel('Probability of galaxy being in a merger')\n",
    "plt.legend(loc='best')"
   ]
  },
  {
   "cell_type": "markdown",
   "metadata": {},
   "source": [
    "# Multiple Classifiers\n",
    "\n",
    "The analysis up until now assumed that galaxies were either mergers or not. I'll now extend this to multinomial distributions\n",
    "\n",
    "### Potential difficulty\n",
    "The mixing matrix $r_{ij}$ may be hard to estimate."
   ]
  },
  {
   "cell_type": "code",
   "execution_count": null,
   "metadata": {},
   "outputs": [],
   "source": [
    "fracs_true = np.array([0.4, 0.3, 0.1, 0.1, 0.1])\n",
    "np.random.seed(0)\n",
    "N_true = np.random.choice(np.arange(5), p=fracs_true, size=N)\n",
    "labels = np.arange(5)\n",
    "labels, sizes = np.unique(N_true, return_counts=True)\n",
    "_=plt.pie(sizes, labels=labels, autopct='%1.1f%%')"
   ]
  },
  {
   "cell_type": "code",
   "execution_count": null,
   "metadata": {},
   "outputs": [],
   "source": [
    "r_ijks = np.zeros((n, 5, 5))\n",
    "p_correct = 0.9\n",
    "p_incorrect = (1-p_correct)/4\n",
    "for i in range(n):\n",
    "    for j in range(5):\n",
    "        alphas = np.ones(5)*p_incorrect\n",
    "        alphas[j] = p_correct\n",
    "        r_ijks[i,j] = dirichlet.rvs(alphas)"
   ]
  },
  {
   "cell_type": "code",
   "execution_count": null,
   "metadata": {},
   "outputs": [],
   "source": [
    "m_ijs = np.zeros((n, N), dtype='int')\n",
    "np.random.seed(0)\n",
    "for i in range(n):\n",
    "    for j in range(N):\n",
    "        m_ijs[i,j] = np.random.choice(np.arange(5), p=r_ijks[i, N_true[j]])"
   ]
  },
  {
   "cell_type": "code",
   "execution_count": null,
   "metadata": {},
   "outputs": [],
   "source": [
    "fig, axes = plt.subplots(nrows=4, ncols=4, figsize=(12, 12))\n",
    "axs = axes.flatten()\n",
    "for i in range(len(axs)):\n",
    "    if i < n:\n",
    "        labels, sizes = np.unique(m_ijs[i], return_counts=True)\n",
    "        axs[i].pie(sizes)\n",
    "    else:\n",
    "        axs[i].set_visible(False)"
   ]
  },
  {
   "cell_type": "markdown",
   "metadata": {},
   "source": [
    "# Estimating what category each galaxy is in\n",
    "\n",
    "I believe this involves just normalizing the binary case with all of the relevant probability outcomes."
   ]
  },
  {
   "cell_type": "code",
   "execution_count": null,
   "metadata": {},
   "outputs": [],
   "source": [
    "# Actual state of galaxy\n",
    "ind = 0\n",
    "G = N_true[ind]\n",
    "\n",
    "# We will assume f_M is the true input value.\n",
    "fig, axes = plt.subplots(ncols=5, figsize=(30, 4), sharey=True)\n",
    "Ps = []\n",
    "for gal_type in range(5):\n",
    "    P = np.zeros(n)\n",
    "    for i in range(n):\n",
    "        num = fracs_true[gal_type]*r_ijks[i,m_ijs[i,gal_type],gal_type]\n",
    "        den = 0\n",
    "        for k in range(5):\n",
    "            den += fracs_true[k]*r_ijks[i,m_ijs[i,k],k]\n",
    "        P[i] = num/den\n",
    "    axes[gal_type].plot(class_inds, P, '.')\n",
    "    if gal_type == 2:\n",
    "        axes[2].set_xlabel('Classifier Index')\n",
    "    axes[gal_type].set_title(f'Probability of Gal {ind} being type {gal_type}')\n",
    "    Ps.append(P)\n",
    "    \n",
    "print(f'Galaxy {ind} is actually type {G}')"
   ]
  },
  {
   "cell_type": "code",
   "execution_count": null,
   "metadata": {},
   "outputs": [],
   "source": [
    "gal_probs = np.zeros((N, 5))\n",
    "for ind in range(N):\n",
    "    # We will assume f_M is the true input value.\n",
    "    logPs = np.zeros(5)\n",
    "    for gal_type in range(5):\n",
    "        nums = np.zeros(n)\n",
    "        for i in range(n):\n",
    "            nums[i] = r_ijks[i,m_ijs[i,ind],gal_type]\n",
    "        logPs[gal_type] = np.log(fracs_true[gal_type]) + np.log(nums).sum()\n",
    "    Ps = np.exp(logPs-logPs.max())\n",
    "    gal_probs[ind] = Ps/Ps.sum()"
   ]
  },
  {
   "cell_type": "code",
   "execution_count": null,
   "metadata": {},
   "outputs": [],
   "source": [
    "fig, axes = plt.subplots(nrows=5, figsize=(30, 20), sharey=True, sharex=True)\n",
    "for i in range(5):\n",
    "    axes[i].scatter(gal_inds, gal_probs[:,i], s=20, c=[f'C{i}' for i in N_true])\n",
    "    if i == 4:\n",
    "        axes[i].set_xlabel('Galaxy Index')\n",
    "    axes[i].set_ylabel(f'Probability of being type {i}')"
   ]
  },
  {
   "cell_type": "code",
   "execution_count": null,
   "metadata": {},
   "outputs": [],
   "source": [
    "sizes_est = gal_probs.sum(axis=0)\n",
    "_=plt.pie(sizes_est, labels=labels, autopct='%1.1f%%')\n",
    "plt.title(\"Estimated fractions\")"
   ]
  },
  {
   "cell_type": "code",
   "execution_count": null,
   "metadata": {},
   "outputs": [],
   "source": [
    "_=plt.pie(sizes, labels=labels, autopct='%1.1f%%')\n",
    "plt.title(\"True fractions\")"
   ]
  },
  {
   "cell_type": "code",
   "execution_count": null,
   "metadata": {},
   "outputs": [],
   "source": []
  }
 ],
 "metadata": {
  "kernelspec": {
   "display_name": "Python 3 (Anaconda)",
   "language": "python",
   "name": "python3-anaconda"
  },
  "language_info": {
   "codemirror_mode": {
    "name": "ipython",
    "version": 3
   },
   "file_extension": ".py",
   "mimetype": "text/x-python",
   "name": "python",
   "nbconvert_exporter": "python",
   "pygments_lexer": "ipython3",
   "version": "3.7.4"
  }
 },
 "nbformat": 4,
 "nbformat_minor": 4
}
