{
 "cells": [
  {
   "cell_type": "code",
   "execution_count": 1,
   "metadata": {},
   "outputs": [],
   "source": [
    "%matplotlib inline\n",
    "import pandas as pd\n",
    "import numpy as np\n",
    "import matplotlib.pyplot as plt\n",
    "\n",
    "f = pd.read_hdf('df_full_02182020.hdf5','table')\n",
    "# MaM, MiM, MaD are mergers\n",
    "# NE, MiD are isolated"
   ]
  },
  {
   "cell_type": "markdown",
   "metadata": {},
   "source": [
    "each index corresponds to object (i.e questions) R1-R8 corresponds to the classifier\n"
   ]
  },
  {
   "cell_type": "code",
   "execution_count": 2,
   "metadata": {},
   "outputs": [],
   "source": [
    "inds = np.arange(1, 193+1)\n",
    "bla = np.zeros((193, 7))\n",
    "flags = np.ones((193, 7)).astype('bool')\n",
    "merger = ['MaM', 'MiM', 'MaD']\n",
    "for index, row in f.iterrows():\n",
    "    #print(row['R1'], row['R2'])\n",
    "    for c in np.arange(1, 1+7):\n",
    "        if row[f'R{c}'] in merger:\n",
    "            bla[index-1][c-1] = 1\n",
    "        if row[f'R{c}_flag'] == 'Unsure with my classification':\n",
    "            flags[index-1][c-1] = 0"
   ]
  },
  {
   "cell_type": "code",
   "execution_count": 3,
   "metadata": {},
   "outputs": [
    {
     "data": {
      "text/plain": [
       "<matplotlib.image.AxesImage at 0x7fc25aa4cd50>"
      ]
     },
     "execution_count": 3,
     "metadata": {},
     "output_type": "execute_result"
    },
    {
     "data": {
      "image/png": "[encoded data removed]",
      "text/plain": [
       "<Figure size 864x720 with 1 Axes>"
      ]
     },
     "metadata": {
      "needs_background": "light"
     },
     "output_type": "display_data"
    },
    {
     "data": {
      "image/png": "[encoded data removed]",
      "text/plain": [
       "<Figure size 864x720 with 1 Axes>"
      ]
     },
     "metadata": {
      "needs_background": "light"
     },
     "output_type": "display_data"
    }
   ],
   "source": [
    "plt.figure(figsize=(12, 10))\n",
    "plt.imshow(bla.T, aspect=5, extent=[1, 193, 1,7])\n",
    "plt.figure(figsize=(12, 10))\n",
    "plt.imshow(flags.T, aspect=5, extent=[1, 193, 1,7])"
   ]
  },
  {
   "cell_type": "code",
   "execution_count": 4,
   "metadata": {},
   "outputs": [
    {
     "data": {
      "text/plain": [
       "Text(0, 0.5, 'Merger')"
      ]
     },
     "execution_count": 4,
     "metadata": {},
     "output_type": "execute_result"
    },
    {
     "data": {
      "image/png": "[encoded data removed]",
      "text/plain": [
       "<Figure size 864x288 with 1 Axes>"
      ]
     },
     "metadata": {
      "needs_background": "light"
     },
     "output_type": "display_data"
    }
   ],
   "source": [
    "plt.figure(figsize=(12, 4))\n",
    "for i in range(193):\n",
    "    plt.errorbar(np.arange(1, 193+1)[i], bla[:,flags[i]].mean(axis=1)[i], yerr=bla[:,flags[i]].std(axis=1)[i]/7**0.5, fmt='.', color='C0')\n",
    "plt.xlabel('Image')\n",
    "plt.ylabel('Merger')"
   ]
  },
  {
   "cell_type": "markdown",
   "metadata": {},
   "source": [
    "# Binomial distribution\n",
    "\n",
    "I am interested in modeling the probability that any given image is a merger or is isolated, based off of each classifier's response.\n",
    "\n",
    "There are four cases.\n",
    "\n",
    "- The classifier, who can identify mergers correctly at a rate $r_M$, correctly identifies a merger. This can be written as $p(m\\mid r_M, M)=r_M$.\n",
    "- The classifier, who can identify isolated galaxies at a rate $r_I$, incorrectly identifies a merger. This can be written as $p(m\\mid 1-r_I, I)=1-r_I$.\n",
    "- The other two cases are $r_I$ and $1-r_M$ for correctly (incorrectly) identifying isolated galaxies (mergers).\n",
    "\n",
    "\n",
    "So for every image, we have a vector of images, plus every person's classification. These are all independent processes. If a single person identifies a merger, we want the probability that the galaxy is a merger.\n",
    "\n",
    "$$\n",
    "p(M\\mid m, r_M, r_I)=\\frac{p(m\\mid M, r_M, r_I)p(M)}{p(m\\mid M, r_M, r_I)p(M)+P(m\\mid I, r_M, r_I)p(I)}\n",
    "$$\n",
    "\n",
    "We know that $P(I)=1-P(M)$, and we have estimated $P(M)=f_M$. Therefore, \n",
    "$$\n",
    "p(M\\mid m, r_M, r_I)=\\frac{r_Mf_M}{r_Mf_M+(1-r_I)(1-f_M)}.\n",
    "$$\n",
    "\n",
    "Conversely, what is the probability that an object is a merger if they say it is not a merger?\n",
    "\n",
    "$$\n",
    "p(M\\mid i,r_M,r_I)=\\frac{p(i\\mid M,r_M,r_I)p(M)}{p(i\\mid M,r_M,r_I)p(M)\n",
    "+ P(i\\mid I,r_M,r_I)p(I)}\n",
    "$$\n",
    "\n",
    "As with before, we can write\n",
    "$$\n",
    "p(M\\mid i,r_M,r_I)=\\frac{(1-r_M)f_M}{(1-r_M)f_M+r_I(1-f_M)}\n",
    "$$"
   ]
  },
  {
   "cell_type": "markdown",
   "metadata": {},
   "source": [
    "Let's talk about this a bit more...\n",
    "\n",
    "Basically, for each individual, we have a measurement $m$, which\n",
    "is 0 if isolated, 1 if merger. We know $p(m\\mid M,r_{I},r_{M})=r_{M}$,\n",
    "$p(m\\mid I,r_{I,}r_{M})=1-r_{I}$, $p(i\\mid M,r_{I},r_{M})=1-r_{M}$,\n",
    "$p(i\\mid I,r_{I},r_{M})=r_{I}$.\n",
    "\n",
    "We are more interested in the probability of a given galaxy being\n",
    "a merger or isolated given the classifier's choice.\n",
    "$$\n",
    "p(M\\mid m,r_{I},r_{M})=\\frac{p(m\\mid M,r_{I},r_{M})p(M)}{p(m)}=\\frac{p(m\\mid M,r_{I},r_{M})p(M)}{\\sum_{M}p(m\\mid M,r_{I},r_{M})p(M)}\n",
    "$$\n",
    "where we are for the sake of brevity having $M$ be the true state\n",
    "of the image, whereas $m$ is what the classifier puts down.\n",
    "\n",
    "OK, what about the whole dataset, $p(M|\\{m_{i},r_{I,i}r_{M,i}\\})$?\n",
    "I believe it is fair to say that these are independent draws. So let's\n",
    "write this down;\n",
    "$$\n",
    "p(M|\\{m_{i},r_{I,i},r_{M,i}\\})=\\frac{p(\\{m_{i},r_{I,i},r_{M,i}\\}\\mid M)p(M)}{\\sum_{M}p(\\{m_{i},r_{I,i}r_{M,i}\\}\\mid M)p(M)}=\\frac{p(M)\\prod_{i}p(m_{i},r_{I,i},r_{M,i}\\mid M)}{\\sum_{M}\\prod_{i}p(m_{i},r_{I,i},r_{M,i}\\mid M)p(M)}\n",
    "$$\n",
    "and\n",
    "$$\n",
    "p(a,b\\mid c)=p(a\\mid c)p(b\\mid a,c)\n",
    "$$\n",
    "So for the likelihood, we have\n",
    "$$\n",
    "p(m_{i},r_{I,i},r_{M,i}\\mid M)=p(m_{i}\\mid M)p(r_{I,i},r_{M,i}\\mid m,M)\n",
    "$$\n",
    "\n",
    "\n",
    "OK, hold on. I want $p(m_{i}\\mid r_{I,i},r_{M,i},M)$. This is like\n",
    "$p(b\\mid a,c)$ above;\n",
    "$$\n",
    "p(b\\mid a,c)=\\frac{p(a,b\\mid c)}{p(a\\mid c)}\\to p(m_{i}\\mid r_{I,i}r_{M,i},M)=\\frac{p(m_{i},r_{I,i},r_{M,i}\\mid M)}{p(r_{I,i},r_{M,i}\\mid M)}\n",
    "$$\n",
    "so that\n",
    "$$\n",
    "p(m_{i},r_{I,i}r_{M,i}\\mid M)=p(m_{i}\\mid r_{I,i},r_{M,i},M)p(r_{I,i},r_{M,i}\\mid M)\n",
    "$$\n",
    "Therefore,\n",
    "$$\n",
    "p(M\\mid\\{m_{i},r_{I,i},r_{M,i}\\})=\\frac{p(M)\\prod_{i}p(m_{i}\\mid r_{I,i},r_{M,i},M)p(r_{I,i},r_{M,i}\\mid M)}{\\sum_{M}\\prod_{i}p(m_{i},r_{I,i},r_{M,i}\\mid M)p(M)}=\\frac{p(M)\\prod_{i}p(m_{i}\\mid r_{I,i},r_{M,i},M)p(r_{I,i},r_{M,i}\\mid M)}{\\sum_{M}\\prod_{i}p(m_{i}\\mid r_{I,i},r_{M,i},M)p(r_{I,i},r_{M,i}\\mid M)p(M)}\n",
    "$$\n",
    "As a simplifying step, with $p(r_{I,i},r_{M,i}\\mid M)$ constant for\n",
    "all $i$, we should have\n",
    "$$\n",
    "p(M\\mid\\{m_{i},r_{I,i},r_{M,i}\\})=\\frac{p(M)\\prod_{i}p(m_{i}\\mid r_{I,i},r_{M,i},M)}{\\sum_{M}\\prod_{i}p(m_{i}\\mid r_{I,i},r_{M,i},M)p(M)}\n",
    "$$\n"
   ]
  },
  {
   "cell_type": "code",
   "execution_count": 5,
   "metadata": {},
   "outputs": [
    {
     "data": {
      "text/plain": [
       "<matplotlib.colorbar.Colorbar at 0x7fc25a451950>"
      ]
     },
     "execution_count": 5,
     "metadata": {},
     "output_type": "execute_result"
    },
    {
     "data": {
      "image/png": "[encoded data removed]",
      "text/plain": [
       "<Figure size 432x288 with 2 Axes>"
      ]
     },
     "metadata": {
      "needs_background": "light"
     },
     "output_type": "display_data"
    }
   ],
   "source": [
    "ms = bla[0]\n",
    "\n",
    "r_Ms = np.array([0.71, 0.81, 0.78, 0.66, 0.79, 0.65, 0.76])\n",
    "r_Is = np.array([0.74, 0.46, 0.63, 0.80, 0.53, 0.61, 0.75])\n",
    "\n",
    "\n",
    "def p_M(m, r_M, r_I, f_M=0.2):\n",
    "    if m == 0:\n",
    "        return (1-r_M)*f_M/((1-r_M)*f_M + r_I*(1-f_M))\n",
    "    else:\n",
    "        return r_M*f_M/(r_M*f_M + (1-r_I)*(1-f_M))\n",
    "P = np.zeros_like(ms)\n",
    "for i in range(len(ms)):\n",
    "    P[i] = p_M(ms[i], r_Ms[i], r_Is[i])\n",
    "flag_i = flags[0]\n",
    "plt.scatter(r_Ms[flag_i], r_Is[flag_i], c=P[flag_i])\n",
    "plt.xlabel(r'$r_M$')\n",
    "plt.ylabel(r'$r_I$')\n",
    "plt.colorbar(label=r'$p(M\\mid m,r_M,r_I)$')\n"
   ]
  },
  {
   "cell_type": "code",
   "execution_count": 6,
   "metadata": {},
   "outputs": [
    {
     "data": {
      "text/plain": [
       "<matplotlib.colorbar.Colorbar at 0x7fc25a3a8fd0>"
      ]
     },
     "execution_count": 6,
     "metadata": {},
     "output_type": "execute_result"
    },
    {
     "data": {
      "image/png": "[encoded data removed]",
      "text/plain": [
       "<Figure size 432x288 with 2 Axes>"
      ]
     },
     "metadata": {
      "needs_background": "light"
     },
     "output_type": "display_data"
    }
   ],
   "source": [
    "ms = bla[1]\n",
    "\n",
    "r_Ms = np.array([0.71, 0.81, 0.78, 0.66, 0.79, 0.65, 0.76])\n",
    "r_Is = np.array([0.74, 0.46, 0.63, 0.80, 0.53, 0.61, 0.75])\n",
    "\n",
    "\n",
    "def p_M(m, r_M, r_I, f_M=0.2, flag=0):\n",
    "    if m == 0:\n",
    "        return (1-r_M)*f_M/((1-r_M)*f_M + r_I*(1-f_M))\n",
    "    else:\n",
    "        return r_M*f_M/(r_M*f_M + (1-r_I)*(1-f_M))\n",
    "P = np.zeros_like(ms)\n",
    "for i in range(len(ms)):\n",
    "    P[i] = p_M(ms[i], r_Ms[i], r_Is[i])\n",
    "    \n",
    "flag_i = flags[1]\n",
    "plt.scatter(r_Ms[flag_i], r_Is[flag_i], c=P[flag_i])\n",
    "plt.xlabel(r'$r_M$')\n",
    "plt.ylabel(r'$r_I$')\n",
    "plt.colorbar(label=r'$p(M\\mid m,r_M,r_I)$')\n"
   ]
  },
  {
   "cell_type": "code",
   "execution_count": 7,
   "metadata": {},
   "outputs": [],
   "source": [
    "def get_merger_prob(ms, r_Ms, r_Is, f_M=0.2, flags=False):\n",
    "    numerator = 1\n",
    "    if flags is not False:\n",
    "        r_Ms = r_Ms[flags]\n",
    "        r_Is = r_Is[flags]\n",
    "    for i in range(len(r_Ms)):\n",
    "        if ms[i] == 0:\n",
    "            numerator *= 1-r_Is[i]\n",
    "        else:\n",
    "            numerator *= r_Ms[i]\n",
    "    numerator *= f_M\n",
    "    denominator = 1\n",
    "    for i in range(len(r_Ms)):\n",
    "        if ms[i] == 0:\n",
    "            denominator *= r_Is[i]\n",
    "        else:\n",
    "            denominator *= 1-r_Ms[i]\n",
    "        \n",
    "    denominator *= (1-f_M)\n",
    "    denominator += numerator\n",
    "    \n",
    "    return numerator/denominator\n"
   ]
  },
  {
   "cell_type": "code",
   "execution_count": 8,
   "metadata": {},
   "outputs": [
    {
     "name": "stdout",
     "output_type": "stream",
     "text": [
      "0.002853076441112509\n",
      "0.002853076441112509\n"
     ]
    }
   ],
   "source": [
    "print(get_merger_prob(bla[0], r_Ms, r_Is, flags=flags[0]))\n",
    "print(get_merger_prob(bla[0], r_Ms, r_Is))"
   ]
  },
  {
   "cell_type": "code",
   "execution_count": 9,
   "metadata": {},
   "outputs": [],
   "source": [
    "p_Ms = np.zeros(len(bla))\n",
    "for i in range(len(bla)):\n",
    "    p_Ms[i] = get_merger_prob(bla[i], r_Ms, r_Is, flags=flags[i])"
   ]
  },
  {
   "cell_type": "code",
   "execution_count": 10,
   "metadata": {},
   "outputs": [
    {
     "data": {
      "text/plain": [
       "[<matplotlib.lines.Line2D at 0x7fc25a338b10>]"
      ]
     },
     "execution_count": 10,
     "metadata": {},
     "output_type": "execute_result"
    },
    {
     "data": {
      "image/png": "[encoded data removed]",
      "text/plain": [
       "<Figure size 864x288 with 1 Axes>"
      ]
     },
     "metadata": {
      "needs_background": "light"
     },
     "output_type": "display_data"
    }
   ],
   "source": [
    "plt.figure(figsize=(12, 4))\n",
    "#plt.errorbar(np.arange(1, 193+1), bla.mean(axis=1), yerr=bla.std(axis=1)/7**0.5, fmt='.')\n",
    "\n",
    "t = np.sum(flags, axis=1)\n",
    "cm = plt.cm.copper\n",
    "plt.plot(np.arange(1, 193+1)[t==7], p_Ms[t==7], 'o')\n",
    "plt.plot(np.arange(1, 193+1)[t<7], p_Ms[t<7], 'o', color='k')\n",
    "\n",
    "#plt.plot(np.arange(1, 193+1)[t==6], p_Ms[t==6], 'o', color=cm(0))\n",
    "#plt.plot(np.arange(1, 193+1)[t==5], p_Ms[t==5], 'o', color=cm(0.33))\n",
    "#plt.plot(np.arange(1, 193+1)[t==4], p_Ms[t==4], 'o', color=cm(0.66))\n",
    "#plt.plot(np.arange(1, 193+1)[t==3], p_Ms[t==3], 'o', color=cm(1))"
   ]
  },
  {
   "cell_type": "code",
   "execution_count": 11,
   "metadata": {},
   "outputs": [
    {
     "name": "stdout",
     "output_type": "stream",
     "text": [
      "burn-in: 585\n",
      "thin: 124\n",
      "flat chain shape: (29952, 17)\n",
      "flat log prob shape: (29952,)\n",
      "(29952, 7) (29952, 7) (29952,)\n"
     ]
    }
   ],
   "source": [
    "import emcee\n",
    "import numpy as np\n",
    "filename = 'samples_8.h5'\n",
    "\n",
    "reader = emcee.backends.HDFBackend(filename)\n",
    "\n",
    "tau = reader.get_autocorr_time()\n",
    "burnin = int(2 * np.max(tau))\n",
    "thin = int(0.5 * np.min(tau))\n",
    "samples = reader.get_chain(discard=burnin, flat=True, thin=thin)\n",
    "log_prob_samples = reader.get_log_prob(discard=burnin, flat=True, thin=thin)\n",
    "\n",
    "print(\"burn-in: {0}\".format(burnin))\n",
    "print(\"thin: {0}\".format(thin))\n",
    "print(\"flat chain shape: {0}\".format(samples.shape))\n",
    "print(\"flat log prob shape: {0}\".format(log_prob_samples.shape))\n",
    "\n",
    "Bms, r_Ms, r_Is = samples[:,0], samples[:,1:8], samples[:,9:-1]\n",
    "print(r_Ms.shape, r_Is.shape, Bms.shape)"
   ]
  },
  {
   "cell_type": "code",
   "execution_count": 12,
   "metadata": {},
   "outputs": [],
   "source": [
    "p_Ms_MC = np.zeros((len(bla), len(Bms)))\n",
    "\n",
    "f_Ms = Bms/70\n",
    "for i in range(len(bla)):\n",
    "    for n in range(len(Bms)):\n",
    "        p_Ms_MC[i,n] = get_merger_prob(bla[i], r_Ms[n], r_Is[n], f_M=f_Ms[n], flags=flags[i])"
   ]
  },
  {
   "cell_type": "code",
   "execution_count": 13,
   "metadata": {},
   "outputs": [
    {
     "name": "stdout",
     "output_type": "stream",
     "text": [
      "(193, 29952)\n"
     ]
    }
   ],
   "source": [
    "print(p_Ms_MC.shape)"
   ]
  },
  {
   "cell_type": "code",
   "execution_count": 20,
   "metadata": {},
   "outputs": [],
   "source": [
    "lls, cens, uls = np.percentile(p_Ms_MC, np.array([50-42.5, 50, 50+42.5]), axis=1)"
   ]
  },
  {
   "cell_type": "code",
   "execution_count": 21,
   "metadata": {},
   "outputs": [
    {
     "data": {
      "text/plain": [
       "Text(0, 0.5, 'Probability of being in a merger')"
      ]
     },
     "execution_count": 21,
     "metadata": {},
     "output_type": "execute_result"
    },
    {
     "data": {
      "image/png": "[encoded data removed]",
      "text/plain": [
       "<Figure size 864x288 with 1 Axes>"
      ]
     },
     "metadata": {
      "needs_background": "light"
     },
     "output_type": "display_data"
    }
   ],
   "source": [
    "plt.figure(figsize=(12, 4))\n",
    "#plt.errorbar(np.arange(1, 193+1), bla.mean(axis=1), yerr=bla.std(axis=1)/7**0.5, fmt='.')\n",
    "\n",
    "plt.errorbar(np.arange(1,193+1), cens, yerr=[cens-lls, uls-cens], fmt='o', color='C2')\n",
    "plt.xlabel('Galaxy index')\n",
    "plt.ylabel('Probability of being in a merger')"
   ]
  },
  {
   "cell_type": "code",
   "execution_count": 22,
   "metadata": {},
   "outputs": [
    {
     "name": "stdout",
     "output_type": "stream",
     "text": [
      "ind=13, merger chance between 8% and 76%\n",
      "ind=24, merger chance between 39% and 92%\n",
      "ind=28, merger chance between 13% and 71%\n",
      "ind=38, merger chance between 43% and 93%\n",
      "ind=45, merger chance between 17% and 73%\n",
      "ind=52, merger chance between 24% and 82%\n",
      "ind=56, merger chance between 22% and 86%\n",
      "ind=60, merger chance between 47% and 86%\n",
      "ind=61, merger chance between 37% and 94%\n",
      "ind=65, merger chance between 6% and 56%\n",
      "ind=67, merger chance between 7% and 71%\n",
      "ind=75, merger chance between 18% and 83%\n",
      "ind=79, merger chance between 6% and 56%\n",
      "ind=84, merger chance between 11% and 71%\n",
      "ind=85, merger chance between 43% and 92%\n",
      "ind=99, merger chance between 46% and 92%\n",
      "ind=105, merger chance between 8% and 49%\n",
      "ind=106, merger chance between 6% and 56%\n",
      "ind=115, merger chance between 30% and 89%\n",
      "ind=116, merger chance between 30% and 89%\n",
      "ind=123, merger chance between 5% and 65%\n",
      "ind=127, merger chance between 30% and 89%\n",
      "ind=131, merger chance between 7% and 71%\n",
      "ind=137, merger chance between 26% and 92%\n",
      "ind=142, merger chance between 31% and 91%\n",
      "ind=144, merger chance between 39% and 88%\n",
      "ind=145, merger chance between 30% and 89%\n",
      "ind=146, merger chance between 9% and 65%\n",
      "ind=150, merger chance between 43% and 92%\n",
      "ind=164, merger chance between 13% and 80%\n",
      "ind=166, merger chance between 6% and 56%\n",
      "ind=168, merger chance between 43% and 92%\n",
      "ind=171, merger chance between 6% and 58%\n",
      "ind=189, merger chance between 45% and 94%\n",
      "ind=190, merger chance between 13% and 71%\n",
      "ind=191, merger chance between 32% and 91%\n"
     ]
    }
   ],
   "source": [
    "inds = np.where((cens < 0.8) & (cens > 0.2))\n",
    "labels = np.arange(1,193+1)[inds]\n",
    "prob = np.round(cens[inds],2)\n",
    "\n",
    "\n",
    "for l, ul, ll in zip(labels, uls[inds], lls[inds]):\n",
    "    print(f'ind={l}, merger chance between {int(ll*100)}% and {int(ul*100)}%')\n"
   ]
  },
  {
   "cell_type": "code",
   "execution_count": 17,
   "metadata": {},
   "outputs": [
    {
     "data": {
      "text/plain": [
       "R1                                    NE\n",
       "R2                                   MiM\n",
       "R3                                    NE\n",
       "R4                                   MaD\n",
       "R5                                   MaD\n",
       "R6                                   MiD\n",
       "R7                                    NE\n",
       "R1_flag                              NaN\n",
       "R2_flag                              NaN\n",
       "R3_flag                              NaN\n",
       "R4_flag    Unsure with my classification\n",
       "R5_flag                              NaN\n",
       "R6_flag                              NaN\n",
       "R7_flag                              NaN\n",
       "Name: 56, dtype: object"
      ]
     },
     "execution_count": 17,
     "metadata": {},
     "output_type": "execute_result"
    }
   ],
   "source": [
    "labs = ['R1','R2','R3','R4','R5','R6','R7']\n",
    "labs_flag = [l + '_flag' for l in labs]\n",
    "f[labs + labs_flag].loc[56]"
   ]
  },
  {
   "cell_type": "code",
   "execution_count": 18,
   "metadata": {},
   "outputs": [
    {
     "data": {
      "text/plain": [
       "109.7593962242356"
      ]
     },
     "execution_count": 18,
     "metadata": {},
     "output_type": "execute_result"
    },
    {
     "data": {
      "image/png": "[encoded data removed]",
      "text/plain": [
       "<Figure size 432x288 with 1 Axes>"
      ]
     },
     "metadata": {
      "needs_background": "light"
     },
     "output_type": "display_data"
    }
   ],
   "source": [
    "plt.plot(p_Ms_MC.mean(axis=1), 'o')\n",
    "sum(p_Ms_MC.mean(axis=1))"
   ]
  },
  {
   "cell_type": "code",
   "execution_count": 19,
   "metadata": {},
   "outputs": [
    {
     "data": {
      "text/plain": [
       "0.5687015348405987"
      ]
     },
     "execution_count": 19,
     "metadata": {},
     "output_type": "execute_result"
    }
   ],
   "source": [
    "np.mean(p_Ms_MC.mean(axis=1))"
   ]
  },
  {
   "cell_type": "code",
   "execution_count": null,
   "metadata": {},
   "outputs": [],
   "source": []
  }
 ],
 "metadata": {
  "kernelspec": {
   "display_name": "Python 3 (Anaconda)",
   "language": "python",
   "name": "python3-anaconda"
  },
  "language_info": {
   "codemirror_mode": {
    "name": "ipython",
    "version": 3
   },
   "file_extension": ".py",
   "mimetype": "text/x-python",
   "name": "python",
   "nbconvert_exporter": "python",
   "pygments_lexer": "ipython3",
   "version": "3.7.4"
  }
 },
 "nbformat": 4,
 "nbformat_minor": 4
}
