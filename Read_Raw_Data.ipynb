{
 "cells": [
  {
   "cell_type": "code",
   "execution_count": 1,
   "metadata": {},
   "outputs": [],
   "source": [
    "%matplotlib inline\n",
    "import pandas as pd\n",
    "import numpy as np\n",
    "import matplotlib.pyplot as plt\n",
    "\n",
    "f = pd.read_hdf('df_full_02182020.hdf5','table')\n",
    "# MaM, MiM, MaD are mergers\n",
    "# NE, MiD are isolated"
   ]
  },
  {
   "cell_type": "markdown",
   "metadata": {},
   "source": [
    "each index corresponds to object (i.e questions) R1-R8 corresponds to the classifier\n"
   ]
  },
  {
   "cell_type": "code",
   "execution_count": 2,
   "metadata": {},
   "outputs": [],
   "source": [
    "inds = np.arange(1, 193+1)\n",
    "bla = np.zeros((193, 7))\n",
    "merger = ['MaM', 'MiM', 'MaD']\n",
    "for index, row in f.iterrows():\n",
    "    #print(row['R1'], row['R2'])\n",
    "    for c in np.arange(1, 1+7):\n",
    "        if row[f'R{c}'] in merger:\n",
    "            bla[index-1][c-1] = 1"
   ]
  },
  {
   "cell_type": "code",
   "execution_count": 3,
   "metadata": {},
   "outputs": [
    {
     "data": {
      "text/plain": [
       "<matplotlib.image.AxesImage at 0x7f672aafb850>"
      ]
     },
     "execution_count": 3,
     "metadata": {},
     "output_type": "execute_result"
    },
    {
     "data": {
      "image/png": "[encoded data removed]",
      "text/plain": [
       "<Figure size 864x720 with 1 Axes>"
      ]
     },
     "metadata": {
      "needs_background": "light"
     },
     "output_type": "display_data"
    }
   ],
   "source": [
    "plt.figure(figsize=(12, 10))\n",
    "plt.imshow(bla.T, aspect=5, extent=[1, 193, 1,7])"
   ]
  },
  {
   "cell_type": "code",
   "execution_count": 4,
   "metadata": {},
   "outputs": [
    {
     "data": {
      "text/plain": [
       "Text(0, 0.5, 'Merger')"
      ]
     },
     "execution_count": 4,
     "metadata": {},
     "output_type": "execute_result"
    },
    {
     "data": {
      "image/png": "[encoded data removed]",
      "text/plain": [
       "<Figure size 864x288 with 1 Axes>"
      ]
     },
     "metadata": {
      "needs_background": "light"
     },
     "output_type": "display_data"
    }
   ],
   "source": [
    "plt.figure(figsize=(12, 4))\n",
    "plt.errorbar(np.arange(1, 193+1), bla.mean(axis=1), yerr=bla.std(axis=1)/7**0.5, fmt='.')\n",
    "plt.xlabel('Image')\n",
    "plt.ylabel('Merger')"
   ]
  },
  {
   "cell_type": "markdown",
   "metadata": {},
   "source": [
    "# Binomial distribution\n",
    "\n",
    "I am interested in modeling the probability that any given image is a merger or is isolated, based off of each classifier's response.\n",
    "\n",
    "There are four cases.\n",
    "\n",
    "- The classifier, who can identify mergers correctly at a rate $r_M$, correctly identifies a merger. This can be written as $p(m\\mid r_M, M)=r_M$.\n",
    "- The classifier, who can identify isolated galaxies at a rate $r_I$, incorrectly identifies a merger. This can be written as $p(m\\mid 1-r_I, I)=1-r_I$.\n",
    "- The other two cases are $r_I$ and $1-r_M$ for correctly (incorrectly) identifying isolated galaxies (mergers).\n",
    "\n",
    "\n",
    "So for every image, we have a vector of images, plus every person's classification. These are all independent processes. If a single person identifies a merger, we want the probability that the galaxy is a merger.\n",
    "\n",
    "$$\n",
    "p(M\\mid m, r_M, r_I)=\\frac{p(m\\mid M, r_M, r_I)p(M)}{p(m\\mid M, r_M, r_I)p(M)+P(m\\mid I, r_M, r_I)p(I)}\n",
    "$$\n",
    "\n",
    "We know that $P(I)=1-P(M)$, and we have estimated $P(M)=f_M$. Therefore, \n",
    "$$\n",
    "p(M\\mid m, r_M, r_I)=\\frac{r_Mf_M}{r_Mf_M+(1-r_I)(1-f_M)}.\n",
    "$$\n",
    "\n",
    "Conversely, what is the probability that an object is a merger if they say it is not a merger?\n",
    "\n",
    "$$\n",
    "p(M\\mid i,r_M,r_I)=\\frac{p(i\\mid M,r_M,r_I)p(M)}{p(i\\mid M,r_M,r_I)p(M)\n",
    "+ P(i\\mid I,r_M,r_I)p(I)}\n",
    "$$\n",
    "\n",
    "As with before, we can write\n",
    "$$\n",
    "p(M\\mid i,r_M,r_I)=\\frac{(1-r_M)f_M}{(1-r_M)f_M+r_I(1-f_M)}\n",
    "$$"
   ]
  },
  {
   "cell_type": "markdown",
   "metadata": {},
   "source": [
    "Let's talk about this a bit more...\n",
    "\n",
    "Basically, for each individual, we have a measurement $m$, which\n",
    "is 0 if isolated, 1 if merger. We know $p(m\\mid M,r_{I},r_{M})=r_{M}$,\n",
    "$p(m\\mid I,r_{I,}r_{M})=1-r_{I}$, $p(i\\mid M,r_{I},r_{M})=1-r_{M}$,\n",
    "$p(i\\mid I,r_{I},r_{M})=r_{I}$.\n",
    "\n",
    "We are more interested in the probability of a given galaxy being\n",
    "a merger or isolated given the classifier's choice.\n",
    "$$\n",
    "p(M\\mid m,r_{I},r_{M})=\\frac{p(m\\mid M,r_{I},r_{M})p(M)}{p(m)}=\\frac{p(m\\mid M,r_{I},r_{M})p(M)}{\\sum_{M}p(m\\mid M,r_{I},r_{M})p(M)}\n",
    "$$\n",
    "where we are for the sake of brevity having $M$ be the true state\n",
    "of the image, whereas $m$ is what the classifier puts down.\n",
    "\n",
    "OK, what about the whole dataset, $p(M|\\{m_{i},r_{I,i}r_{M,i}\\})$?\n",
    "I believe it is fair to say that these are independent draws. So let's\n",
    "write this down;\n",
    "$$\n",
    "p(M|\\{m_{i},r_{I,i},r_{M,i}\\})=\\frac{p(\\{m_{i},r_{I,i},r_{M,i}\\}\\mid M)p(M)}{\\sum_{M}p(\\{m_{i},r_{I,i}r_{M,i}\\}\\mid M)p(M)}=\\frac{p(M)\\prod_{i}p(m_{i},r_{I,i},r_{M,i}\\mid M)}{\\sum_{M}\\prod_{i}p(m_{i},r_{I,i},r_{M,i}\\mid M)p(M)}\n",
    "$$\n",
    "and\n",
    "$$\n",
    "p(a,b\\mid c)=p(a\\mid c)p(b\\mid a,c)\n",
    "$$\n",
    "So for the likelihood, we have\n",
    "$$\n",
    "p(m_{i},r_{I,i},r_{M,i}\\mid M)=p(m_{i}\\mid M)p(r_{I,i},r_{M,i}\\mid m,M)\n",
    "$$\n",
    "\n",
    "\n",
    "OK, hold on. I want $p(m_{i}\\mid r_{I,i},r_{M,i},M)$. This is like\n",
    "$p(b\\mid a,c)$ above;\n",
    "$$\n",
    "p(b\\mid a,c)=\\frac{p(a,b\\mid c)}{p(a\\mid c)}\\to p(m_{i}\\mid r_{I,i}r_{M,i},M)=\\frac{p(m_{i},r_{I,i},r_{M,i}\\mid M)}{p(r_{I,i},r_{M,i}\\mid M)}\n",
    "$$\n",
    "so that\n",
    "$$\n",
    "p(m_{i},r_{I,i}r_{M,i}\\mid M)=p(m_{i}\\mid r_{I,i},r_{M,i},M)p(r_{I,i},r_{M,i}\\mid M)\n",
    "$$\n",
    "Therefore,\n",
    "$$\n",
    "p(M\\mid\\{m_{i},r_{I,i},r_{M,i}\\})=\\frac{p(M)\\prod_{i}p(m_{i}\\mid r_{I,i},r_{M,i},M)p(r_{I,i},r_{M,i}\\mid M)}{\\sum_{M}\\prod_{i}p(m_{i},r_{I,i},r_{M,i}\\mid M)p(M)}=\\frac{p(M)\\prod_{i}p(m_{i}\\mid r_{I,i},r_{M,i},M)p(r_{I,i},r_{M,i}\\mid M)}{\\sum_{M}\\prod_{i}p(m_{i}\\mid r_{I,i},r_{M,i},M)p(r_{I,i},r_{M,i}\\mid M)p(M)}\n",
    "$$\n",
    "As a simplifying step, with $p(r_{I,i},r_{M,i}\\mid M)$ constant for\n",
    "all $i$, we should have\n",
    "$$\n",
    "p(M\\mid\\{m_{i},r_{I,i},r_{M,i}\\})=\\frac{p(M)\\prod_{i}p(m_{i}\\mid r_{I,i},r_{M,i},M)}{\\sum_{M}\\prod_{i}p(m_{i}\\mid r_{I,i},r_{M,i},M)p(M)}\n",
    "$$\n"
   ]
  },
  {
   "cell_type": "code",
   "execution_count": 5,
   "metadata": {},
   "outputs": [
    {
     "data": {
      "text/plain": [
       "<matplotlib.colorbar.Colorbar at 0x7f672aa08dd0>"
      ]
     },
     "execution_count": 5,
     "metadata": {},
     "output_type": "execute_result"
    },
    {
     "data": {
      "image/png": "[encoded data removed]",
      "text/plain": [
       "<Figure size 432x288 with 2 Axes>"
      ]
     },
     "metadata": {
      "needs_background": "light"
     },
     "output_type": "display_data"
    }
   ],
   "source": [
    "ms = bla[0]\n",
    "\n",
    "r_Ms = np.array([0.71, 0.81, 0.78, 0.66, 0.79, 0.65, 0.76])\n",
    "r_Is = np.array([0.74, 0.46, 0.63, 0.80, 0.53, 0.61, 0.75])\n",
    "\n",
    "\n",
    "def p_M(m, r_M, r_I, f_M=0.2):\n",
    "    if m == 0:\n",
    "        return (1-r_M)*f_M/((1-r_M)*f_M + r_I*(1-f_M))\n",
    "    else:\n",
    "        return r_M*f_M/(r_M*f_M + (1-r_I)*(1-f_M))\n",
    "P = np.zeros_like(ms)\n",
    "for i in range(len(ms)):\n",
    "    P[i] = p_M(ms[i], r_Ms[i], r_Is[i])\n",
    "    \n",
    "plt.scatter(r_Ms, r_Is, c=P)\n",
    "plt.xlabel(r'$r_M$')\n",
    "plt.ylabel(r'$r_I$')\n",
    "plt.colorbar(label=r'$p(M\\mid m,r_M,r_I)$')\n"
   ]
  },
  {
   "cell_type": "code",
   "execution_count": 6,
   "metadata": {},
   "outputs": [
    {
     "data": {
      "text/plain": [
       "<matplotlib.colorbar.Colorbar at 0x7f672a951150>"
      ]
     },
     "execution_count": 6,
     "metadata": {},
     "output_type": "execute_result"
    },
    {
     "data": {
      "image/png": "[encoded data removed]",
      "text/plain": [
       "<Figure size 432x288 with 2 Axes>"
      ]
     },
     "metadata": {
      "needs_background": "light"
     },
     "output_type": "display_data"
    }
   ],
   "source": [
    "ms = bla[1]\n",
    "\n",
    "r_Ms = np.array([0.71, 0.81, 0.78, 0.66, 0.79, 0.65, 0.76])\n",
    "r_Is = np.array([0.74, 0.46, 0.63, 0.80, 0.53, 0.61, 0.75])\n",
    "\n",
    "\n",
    "def p_M(m, r_M, r_I, f_M=0.2):\n",
    "    if m == 0:\n",
    "        return (1-r_M)*f_M/((1-r_M)*f_M + r_I*(1-f_M))\n",
    "    else:\n",
    "        return r_M*f_M/(r_M*f_M + (1-r_I)*(1-f_M))\n",
    "P = np.zeros_like(ms)\n",
    "for i in range(len(ms)):\n",
    "    P[i] = p_M(ms[i], r_Ms[i], r_Is[i])\n",
    "    \n",
    "plt.scatter(r_Ms, r_Is, c=P)\n",
    "plt.xlabel(r'$r_M$')\n",
    "plt.ylabel(r'$r_I$')\n",
    "plt.colorbar(label=r'$p(M\\mid m,r_M,r_I)$')\n"
   ]
  },
  {
   "cell_type": "code",
   "execution_count": 7,
   "metadata": {},
   "outputs": [],
   "source": [
    "def get_merger_prob(ms, r_Ms, r_Is, f_M=0.2):\n",
    "    numerator = 1\n",
    "    for i in range(len(r_Ms)):\n",
    "        if ms[i] == 0:\n",
    "            numerator *= 1-r_Is[i]\n",
    "        else:\n",
    "            numerator *= r_Ms[i]\n",
    "    numerator *= f_M\n",
    "    denominator = 1\n",
    "    for i in range(len(r_Ms)):\n",
    "        if ms[i] == 0:\n",
    "            denominator *= r_Is[i]\n",
    "        else:\n",
    "            denominator *= 1-r_Ms[i]\n",
    "        \n",
    "    denominator *= (1-f_M)\n",
    "    denominator += numerator\n",
    "    \n",
    "    return numerator/denominator\n"
   ]
  },
  {
   "cell_type": "code",
   "execution_count": 8,
   "metadata": {},
   "outputs": [
    {
     "data": {
      "text/plain": [
       "0.002853076441112509"
      ]
     },
     "execution_count": 8,
     "metadata": {},
     "output_type": "execute_result"
    }
   ],
   "source": [
    "get_merger_prob(bla[0], r_Ms, r_Is)"
   ]
  },
  {
   "cell_type": "code",
   "execution_count": 9,
   "metadata": {},
   "outputs": [],
   "source": [
    "p_Ms = np.zeros(len(bla))\n",
    "for i in range(len(bla)):\n",
    "    p_Ms[i] = get_merger_prob(bla[i], r_Ms, r_Is)"
   ]
  },
  {
   "cell_type": "code",
   "execution_count": 10,
   "metadata": {},
   "outputs": [
    {
     "data": {
      "text/plain": [
       "[<matplotlib.lines.Line2D at 0x7f672a8d6710>]"
      ]
     },
     "execution_count": 10,
     "metadata": {},
     "output_type": "execute_result"
    },
    {
     "data": {
      "image/png": "[encoded data removed]",
      "text/plain": [
       "<Figure size 864x288 with 1 Axes>"
      ]
     },
     "metadata": {
      "needs_background": "light"
     },
     "output_type": "display_data"
    }
   ],
   "source": [
    "plt.figure(figsize=(12, 4))\n",
    "plt.errorbar(np.arange(1, 193+1), bla.mean(axis=1), yerr=bla.std(axis=1)/7**0.5, fmt='.')\n",
    "\n",
    "plt.plot(np.arange(1, 193+1), p_Ms, 'o')"
   ]
  },
  {
   "cell_type": "code",
   "execution_count": null,
   "metadata": {},
   "outputs": [],
   "source": []
  }
 ],
 "metadata": {
  "kernelspec": {
   "display_name": "Python 3 (Anaconda)",
   "language": "python",
   "name": "python3-anaconda"
  },
  "language_info": {
   "codemirror_mode": {
    "name": "ipython",
    "version": 3
   },
   "file_extension": ".py",
   "mimetype": "text/x-python",
   "name": "python",
   "nbconvert_exporter": "python",
   "pygments_lexer": "ipython3",
   "version": "3.7.4"
  }
 },
 "nbformat": 4,
 "nbformat_minor": 4
}
