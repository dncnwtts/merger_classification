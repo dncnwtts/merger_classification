{
 "cells": [
  {
   "cell_type": "code",
   "execution_count": 1,
   "metadata": {},
   "outputs": [],
   "source": [
    "%matplotlib inline\n",
    "import pandas as pd\n",
    "import numpy as np\n",
    "import matplotlib.pyplot as plt\n",
    "\n",
    "f = pd.read_hdf('df_full_02182020.hdf5','table')\n",
    "# MaM, MiM, MaD are mergers\n",
    "# NE, MiD are isolated"
   ]
  },
  {
   "cell_type": "code",
   "execution_count": 31,
   "metadata": {},
   "outputs": [
    {
     "ename": "NameError",
     "evalue": "name 'df_mock' is not defined",
     "output_type": "error",
     "traceback": [
      "\u001b[0;31m---------------------------------------------------------------------------\u001b[0m",
      "\u001b[0;31mNameError\u001b[0m                                 Traceback (most recent call last)",
      "\u001b[0;32m<ipython-input-31-4c216322dd25>\u001b[0m in \u001b[0;36m<module>\u001b[0;34m\u001b[0m\n\u001b[1;32m     11\u001b[0m \u001b[0mdf_accuracy\u001b[0m\u001b[0;34m[\u001b[0m\u001b[0;34m'R6'\u001b[0m\u001b[0;34m]\u001b[0m \u001b[0;34m=\u001b[0m \u001b[0mdf_full\u001b[0m\u001b[0;34m.\u001b[0m\u001b[0mR6\u001b[0m\u001b[0;34m[\u001b[0m\u001b[0mdf_full\u001b[0m\u001b[0;34m.\u001b[0m\u001b[0mset_type\u001b[0m \u001b[0;34m==\u001b[0m \u001b[0;34m'f'\u001b[0m\u001b[0;34m]\u001b[0m\u001b[0;34m\u001b[0m\u001b[0;34m\u001b[0m\u001b[0m\n\u001b[1;32m     12\u001b[0m \u001b[0mdf_accuracy\u001b[0m\u001b[0;34m[\u001b[0m\u001b[0;34m'R7'\u001b[0m\u001b[0;34m]\u001b[0m \u001b[0;34m=\u001b[0m \u001b[0mdf_full\u001b[0m\u001b[0;34m.\u001b[0m\u001b[0mR7\u001b[0m\u001b[0;34m[\u001b[0m\u001b[0mdf_full\u001b[0m\u001b[0;34m.\u001b[0m\u001b[0mset_type\u001b[0m \u001b[0;34m==\u001b[0m \u001b[0;34m'f'\u001b[0m\u001b[0;34m]\u001b[0m\u001b[0;34m\u001b[0m\u001b[0;34m\u001b[0m\u001b[0m\n\u001b[0;32m---> 13\u001b[0;31m \u001b[0mdf_accuracy\u001b[0m\u001b[0;34m[\u001b[0m\u001b[0;34m'truth'\u001b[0m\u001b[0;34m]\u001b[0m \u001b[0;34m=\u001b[0m \u001b[0mdf_mock\u001b[0m\u001b[0;34m.\u001b[0m\u001b[0msort_values\u001b[0m\u001b[0;34m(\u001b[0m\u001b[0;34m'mock_question_num'\u001b[0m\u001b[0;34m)\u001b[0m\u001b[0;34m.\u001b[0m\u001b[0mtype\u001b[0m\u001b[0;34m.\u001b[0m\u001b[0mvalues\u001b[0m\u001b[0;34m\u001b[0m\u001b[0;34m\u001b[0m\u001b[0m\n\u001b[0m\u001b[1;32m     14\u001b[0m \u001b[0;34m\u001b[0m\u001b[0m\n\u001b[1;32m     15\u001b[0m \u001b[0mR1_merger_correct\u001b[0m \u001b[0;34m=\u001b[0m \u001b[0mlen\u001b[0m\u001b[0;34m(\u001b[0m\u001b[0mdf_accuracy\u001b[0m\u001b[0;34m.\u001b[0m\u001b[0mR1\u001b[0m\u001b[0;34m[\u001b[0m\u001b[0;34m(\u001b[0m\u001b[0;34m(\u001b[0m\u001b[0mdf_accuracy\u001b[0m\u001b[0;34m.\u001b[0m\u001b[0mR1\u001b[0m \u001b[0;34m==\u001b[0m \u001b[0;34m'MiM'\u001b[0m\u001b[0;34m)\u001b[0m \u001b[0;34m|\u001b[0m \u001b[0;34m(\u001b[0m\u001b[0mdf_accuracy\u001b[0m\u001b[0;34m.\u001b[0m\u001b[0mR1\u001b[0m \u001b[0;34m==\u001b[0m \u001b[0;34m'MaD'\u001b[0m\u001b[0;34m)\u001b[0m \u001b[0;34m|\u001b[0m \u001b[0;34m(\u001b[0m\u001b[0mdf_accuracy\u001b[0m\u001b[0;34m.\u001b[0m\u001b[0mR1\u001b[0m \u001b[0;34m==\u001b[0m \u001b[0;34m'MaM'\u001b[0m\u001b[0;34m)\u001b[0m\u001b[0;34m)\u001b[0m \u001b[0;34m&\u001b[0m \u001b[0;34m(\u001b[0m\u001b[0mdf_accuracy\u001b[0m\u001b[0;34m.\u001b[0m\u001b[0mtruth\u001b[0m \u001b[0;34m==\u001b[0m \u001b[0;34m'm'\u001b[0m\u001b[0;34m)\u001b[0m\u001b[0;34m]\u001b[0m\u001b[0;34m)\u001b[0m\u001b[0;34m\u001b[0m\u001b[0;34m\u001b[0m\u001b[0m\n",
      "\u001b[0;31mNameError\u001b[0m: name 'df_mock' is not defined"
     ]
    }
   ],
   "source": [
    "df_full = pd.read_hdf('df_full_02182020.hdf5','table')\n",
    "full_in = df_full.type_index[df_full.set_type == 'o'].astype('int').values\n",
    "\n",
    "\n",
    "df_accuracy = pd.DataFrame(index=df_full.R1[df_full.set_type == 'f'].index)\n",
    "df_accuracy['R1'] = df_full.R1[df_full.set_type == 'f']\n",
    "df_accuracy['R2'] = df_full.R2[df_full.set_type == 'f']\n",
    "df_accuracy['R3'] = df_full.R3[df_full.set_type == 'f']\n",
    "df_accuracy['R4'] = df_full.R4[df_full.set_type == 'f']\n",
    "df_accuracy['R5'] = df_full.R5[df_full.set_type == 'f']\n",
    "df_accuracy['R6'] = df_full.R6[df_full.set_type == 'f']\n",
    "df_accuracy['R7'] = df_full.R7[df_full.set_type == 'f']\n",
    "df_accuracy['truth'] = df_mock.sort_values('mock_question_num').type.values\n",
    "\n",
    "R1_merger_correct = len(df_accuracy.R1[((df_accuracy.R1 == 'MiM') | (df_accuracy.R1 == 'MaD') | (df_accuracy.R1 == 'MaM')) & (df_accuracy.truth == 'm')])\n",
    "R1_isolated_correct = len(df_accuracy.R1[((df_accuracy.R1 == 'MiD') | (df_accuracy.R1 == 'NE')) & (df_accuracy.truth == 'i')])\n",
    "\n",
    "R2_merger_correct = len(df_accuracy.R2[((df_accuracy.R2 == 'MiM') | (df_accuracy.R2 == 'MaD') | (df_accuracy.R2 == 'MaM')) & (df_accuracy.truth == 'm')])\n",
    "R2_isolated_correct = len(df_accuracy.R2[((df_accuracy.R2 == 'MiD') | (df_accuracy.R2 == 'NE')) & (df_accuracy.truth == 'i')])\n",
    "\n",
    "R3_merger_correct = len(df_accuracy.R3[((df_accuracy.R3 == 'MiM') | (df_accuracy.R3 == 'MaD') | (df_accuracy.R3 == 'MaM')) & (df_accuracy.truth == 'm')])\n",
    "R3_isolated_correct = len(df_accuracy.R3[((df_accuracy.R3 == 'MiD') | (df_accuracy.R3 == 'NE')) & (df_accuracy.truth == 'i')])\n",
    "\n",
    "R4_merger_correct = len(df_accuracy.R4[((df_accuracy.R4 == 'MiM') | (df_accuracy.R4 == 'MaD') | (df_accuracy.R4 == 'MaM')) & (df_accuracy.truth == 'm')])\n",
    "R4_isolated_correct = len(df_accuracy.R4[((df_accuracy.R4 == 'MiD') | (df_accuracy.R4 == 'NE')) & (df_accuracy.truth == 'i')])\n",
    "\n",
    "R5_merger_correct = len(df_accuracy.R5[((df_accuracy.R5 == 'MiM') | (df_accuracy.R5 == 'MaD') | (df_accuracy.R5 == 'MaM')) & (df_accuracy.truth == 'm')])\n",
    "R5_isolated_correct = len(df_accuracy.R5[((df_accuracy.R5 == 'MiD') | (df_accuracy.R5 == 'NE')) & (df_accuracy.truth == 'i')])\n",
    "\n",
    "R6_merger_correct = len(df_accuracy.R6[((df_accuracy.R6 == 'MiM') | (df_accuracy.R6 == 'MaD') | (df_accuracy.R6 == 'MaM')) & (df_accuracy.truth == 'm')])\n",
    "R6_isolated_correct = len(df_accuracy.R6[((df_accuracy.R6 == 'MiD') | (df_accuracy.R6 == 'NE')) & (df_accuracy.truth == 'i')])\n",
    "\n",
    "R7_merger_correct = len(df_accuracy.R7[((df_accuracy.R7 == 'MiM') | (df_accuracy.R7 == 'MaD') | (df_accuracy.R7 == 'MaM')) & (df_accuracy.truth == 'm')])\n",
    "R7_isolated_correct = len(df_accuracy.R7[((df_accuracy.R7 == 'MiD') | (df_accuracy.R7 == 'NE')) & (df_accuracy.truth == 'i')])\n",
    "\n",
    "\n",
    "all_R1 = len(df_full.R1[((df_full.set_type== 'c') | (df_full.set_type== 'o')) & ((df_full.R1 == 'MaM') | (df_full.R1=='MiM') | (df_full.R1== 'MaD'))])\n",
    "all_R2 = len(df_full.R2[((df_full.set_type== 'c') | (df_full.set_type== 'o')) & ((df_full.R2 == 'MaM') | (df_full.R2=='MiM') | (df_full.R2== 'MaD'))])\n",
    "all_R3 = len(df_full.R3[((df_full.set_type== 'c') | (df_full.set_type== 'o')) & ((df_full.R3 == 'MaM') | (df_full.R3=='MiM') | (df_full.R3== 'MaD'))])\n",
    "all_R4 = len(df_full.R4[((df_full.set_type== 'c') | (df_full.set_type== 'o')) & ((df_full.R4 == 'MaM') | (df_full.R4=='MiM') | (df_full.R4== 'MaD'))])\n",
    "all_R5 = len(df_full.R5[((df_full.set_type== 'c') | (df_full.set_type== 'o')) & ((df_full.R5 == 'MaM') | (df_full.R5=='MiM') | (df_full.R5== 'MaD'))])\n",
    "all_R6 = len(df_full.R6[((df_full.set_type== 'c') | (df_full.set_type== 'o')) & ((df_full.R6 == 'MaM') | (df_full.R6=='MiM') | (df_full.R6== 'MaD'))])\n",
    "all_R7 = len(df_full.R7[((df_full.set_type== 'c') | (df_full.set_type== 'o')) & ((df_full.R7 == 'MaM') | (df_full.R7=='MiM') | (df_full.R7== 'MaD'))])\n",
    "\n",
    "df_humans = pd.DataFrame(index=range(1,15))\n",
    "df_humans['m'] = [R1_merger_correct/24.,R2_merger_correct/24.,R3_merger_correct/24.,R4_merger_correct/24.,R5_merger_correct/24.,R6_merger_correct/24.,R7_merger_correct/24.]\n",
    "df_humans['i'] = [R1_isolated_correct/17.,R2_isolated_correct/17.,R3_isolated_correct/17.,R4_isolated_correct/17.,R5_isolated_correct/17.,R6_isolated_correct/17.,R7_isolated_correct/17.]\n",
    "\n",
    "\n",
    "rjs = df_humans.m.values\n",
    "rjps = df_humans.i.values\n",
    "F_mhats = np.array([R1_merger_correct,R2_merger_correct,R3_merger_correct,R4_merger_correct,R5_merger_correct,R6_merger_correct,R7_merger_correct])\n",
    "F_Ihats = np.array([R1_isolated_correct,R2_isolated_correct,R3_isolated_correct,R4_isolated_correct,R5_isolated_correct,R6_isolated_correct,R7_isolated_correct])\n",
    "F_m = 24.\n",
    "F_I = 17.\n",
    "\n",
    "B_obs = 144.\n",
    "Bjs_obs = np.array([all_R1,all_R2,all_R3,all_R4,all_R5,all_R6,all_R7])\n"
   ]
  },
  {
   "cell_type": "markdown",
   "metadata": {},
   "source": [
    "each index corresponds to object (i.e questions) R1-R8 corresponds to the classifier\n"
   ]
  },
  {
   "cell_type": "code",
   "execution_count": 2,
   "metadata": {},
   "outputs": [
    {
     "name": "stdout",
     "output_type": "stream",
     "text": [
      "Index(['set_type', 'type_index', 'R1', 'R1_flag', 'R2', 'R2_flag', 'R3',\n",
      "       'R3_flag', 'R4', 'R4_flag', 'R5', 'R5_flag', 'R6', 'R6_flag', 'R7',\n",
      "       'R7_flag'],\n",
      "      dtype='object')\n"
     ]
    }
   ],
   "source": [
    "inds = np.arange(1, 193+1)\n",
    "bla = np.zeros((193, 7))\n",
    "flags = np.ones((193, 7)).astype('bool')\n",
    "merger = ['MaM', 'MiM', 'MaD']\n",
    "for index, row in f.iterrows():\n",
    "    #print(row['R1'], row['R2'])\n",
    "    for c in np.arange(1, 1+7):\n",
    "        if row[f'R{c}'] in merger:\n",
    "            bla[index-1][c-1] = 1\n",
    "        if row[f'R{c}_flag'] == 'Unsure with my classification':\n",
    "            flags[index-1][c-1] = 0\n",
    "print(row.keys())"
   ]
  },
  {
   "cell_type": "code",
   "execution_count": 3,
   "metadata": {},
   "outputs": [
    {
     "data": {
      "text/plain": [
       "<matplotlib.image.AxesImage at 0x7f20d729ea50>"
      ]
     },
     "execution_count": 3,
     "metadata": {},
     "output_type": "execute_result"
    },
    {
     "data": {
      "image/png": "[encoded data removed]",
      "text/plain": [
       "<Figure size 864x720 with 1 Axes>"
      ]
     },
     "metadata": {
      "needs_background": "light"
     },
     "output_type": "display_data"
    },
    {
     "data": {
      "image/png": "[encoded data removed]",
      "text/plain": [
       "<Figure size 864x720 with 1 Axes>"
      ]
     },
     "metadata": {
      "needs_background": "light"
     },
     "output_type": "display_data"
    }
   ],
   "source": [
    "plt.figure(figsize=(12, 10))\n",
    "plt.imshow(bla.T, aspect=5, extent=[1, 193, 1,7])\n",
    "plt.figure(figsize=(12, 10))\n",
    "plt.imshow(flags.T, aspect=5, extent=[1, 193, 1,7])"
   ]
  },
  {
   "cell_type": "code",
   "execution_count": 4,
   "metadata": {},
   "outputs": [
    {
     "data": {
      "text/plain": [
       "Text(0, 0.5, 'Merger')"
      ]
     },
     "execution_count": 4,
     "metadata": {},
     "output_type": "execute_result"
    },
    {
     "data": {
      "image/png": "[encoded data removed]",
      "text/plain": [
       "<Figure size 864x288 with 1 Axes>"
      ]
     },
     "metadata": {
      "needs_background": "light"
     },
     "output_type": "display_data"
    }
   ],
   "source": [
    "plt.figure(figsize=(12, 4))\n",
    "for i in range(193):\n",
    "    plt.errorbar(np.arange(1, 193+1)[i], bla[:,flags[i]].mean(axis=1)[i], yerr=bla[:,flags[i]].std(axis=1)[i]/7**0.5, fmt='.', color='C0')\n",
    "plt.xlabel('Image')\n",
    "plt.ylabel('Merger')"
   ]
  },
  {
   "cell_type": "markdown",
   "metadata": {},
   "source": [
    "# Binomial distribution\n",
    "\n",
    "I am interested in modeling the probability that any given image is a merger or is isolated, based off of each classifier's response.\n",
    "\n",
    "There are four cases.\n",
    "\n",
    "- The classifier, who can identify mergers correctly at a rate $r_M$, correctly identifies a merger. This can be written as $p(m\\mid r_M, M)=r_M$.\n",
    "- The classifier, who can identify isolated galaxies at a rate $r_I$, incorrectly identifies a merger. This can be written as $p(m\\mid 1-r_I, I)=1-r_I$.\n",
    "- The other two cases are $r_I$ and $1-r_M$ for correctly (incorrectly) identifying isolated galaxies (mergers).\n",
    "\n",
    "\n",
    "So for every image, we have a vector of images, plus every person's classification. These are all independent processes. If a single person identifies a merger, we want the probability that the galaxy is a merger.\n",
    "\n",
    "$$\n",
    "p(M\\mid m, r_M, r_I)=\\frac{p(m\\mid M, r_M, r_I)p(M)}{p(m\\mid M, r_M, r_I)p(M)+P(m\\mid I, r_M, r_I)p(I)}\n",
    "$$\n",
    "\n",
    "We know that $P(I)=1-P(M)$, and we have estimated $P(M)=f_M$. Therefore, \n",
    "$$\n",
    "p(M\\mid m, r_M, r_I)=\\frac{r_Mf_M}{r_Mf_M+(1-r_I)(1-f_M)}.\n",
    "$$\n",
    "\n",
    "Conversely, what is the probability that an object is a merger if they say it is not a merger?\n",
    "\n",
    "$$\n",
    "p(M\\mid i,r_M,r_I)=\\frac{p(i\\mid M,r_M,r_I)p(M)}{p(i\\mid M,r_M,r_I)p(M)\n",
    "+ P(i\\mid I,r_M,r_I)p(I)}\n",
    "$$\n",
    "\n",
    "As with before, we can write\n",
    "$$\n",
    "p(M\\mid i,r_M,r_I)=\\frac{(1-r_M)f_M}{(1-r_M)f_M+r_I(1-f_M)}\n",
    "$$"
   ]
  },
  {
   "cell_type": "markdown",
   "metadata": {},
   "source": [
    "Let's talk about this a bit more...\n",
    "\n",
    "Basically, for each individual, we have a measurement $m$, which\n",
    "is 0 if isolated, 1 if merger. We know $p(m\\mid M,r_{I},r_{M})=r_{M}$,\n",
    "$p(m\\mid I,r_{I,}r_{M})=1-r_{I}$, $p(i\\mid M,r_{I},r_{M})=1-r_{M}$,\n",
    "$p(i\\mid I,r_{I},r_{M})=r_{I}$.\n",
    "\n",
    "We are more interested in the probability of a given galaxy being\n",
    "a merger or isolated given the classifier's choice.\n",
    "$$\n",
    "p(M\\mid m,r_{I},r_{M})=\\frac{p(m\\mid M,r_{I},r_{M})p(M)}{p(m)}=\\frac{p(m\\mid M,r_{I},r_{M})p(M)}{\\sum_{M}p(m\\mid M,r_{I},r_{M})p(M)}\n",
    "$$\n",
    "where we are for the sake of brevity having $M$ be the true state\n",
    "of the image, whereas $m$ is what the classifier puts down.\n",
    "\n",
    "OK, what about the whole dataset, $p(M|\\{m_{i},r_{I,i}r_{M,i}\\})$?\n",
    "I believe it is fair to say that these are independent draws. So let's\n",
    "write this down;\n",
    "$$\n",
    "p(M|\\{m_{i},r_{I,i},r_{M,i}\\})=\\frac{p(\\{m_{i},r_{I,i},r_{M,i}\\}\\mid M)p(M)}{\\sum_{M}p(\\{m_{i},r_{I,i}r_{M,i}\\}\\mid M)p(M)}=\\frac{p(M)\\prod_{i}p(m_{i},r_{I,i},r_{M,i}\\mid M)}{\\sum_{M}\\prod_{i}p(m_{i},r_{I,i},r_{M,i}\\mid M)p(M)}\n",
    "$$\n",
    "and\n",
    "$$\n",
    "p(a,b\\mid c)=p(a\\mid c)p(b\\mid a,c)\n",
    "$$\n",
    "So for the likelihood, we have\n",
    "$$\n",
    "p(m_{i},r_{I,i},r_{M,i}\\mid M)=p(m_{i}\\mid M)p(r_{I,i},r_{M,i}\\mid m,M)\n",
    "$$\n",
    "\n",
    "\n",
    "OK, hold on. I want $p(m_{i}\\mid r_{I,i},r_{M,i},M)$. This is like\n",
    "$p(b\\mid a,c)$ above;\n",
    "$$\n",
    "p(b\\mid a,c)=\\frac{p(a,b\\mid c)}{p(a\\mid c)}\\to p(m_{i}\\mid r_{I,i}r_{M,i},M)=\\frac{p(m_{i},r_{I,i},r_{M,i}\\mid M)}{p(r_{I,i},r_{M,i}\\mid M)}\n",
    "$$\n",
    "so that\n",
    "$$\n",
    "p(m_{i},r_{I,i}r_{M,i}\\mid M)=p(m_{i}\\mid r_{I,i},r_{M,i},M)p(r_{I,i},r_{M,i}\\mid M)\n",
    "$$\n",
    "Therefore,\n",
    "$$\n",
    "p(M\\mid\\{m_{i},r_{I,i},r_{M,i}\\})=\\frac{p(M)\\prod_{i}p(m_{i}\\mid r_{I,i},r_{M,i},M)p(r_{I,i},r_{M,i}\\mid M)}{\\sum_{M}\\prod_{i}p(m_{i},r_{I,i},r_{M,i}\\mid M)p(M)}=\\frac{p(M)\\prod_{i}p(m_{i}\\mid r_{I,i},r_{M,i},M)p(r_{I,i},r_{M,i}\\mid M)}{\\sum_{M}\\prod_{i}p(m_{i}\\mid r_{I,i},r_{M,i},M)p(r_{I,i},r_{M,i}\\mid M)p(M)}\n",
    "$$\n",
    "As a simplifying step, with $p(r_{I,i},r_{M,i}\\mid M)$ constant for\n",
    "all $i$, we should have\n",
    "$$\n",
    "p(M\\mid\\{m_{i},r_{I,i},r_{M,i}\\})=\\frac{p(M)\\prod_{i}p(m_{i}\\mid r_{I,i},r_{M,i},M)}{\\sum_{M}\\prod_{i}p(m_{i}\\mid r_{I,i},r_{M,i},M)p(M)}\n",
    "$$\n"
   ]
  },
  {
   "cell_type": "code",
   "execution_count": 5,
   "metadata": {},
   "outputs": [
    {
     "data": {
      "text/plain": [
       "<matplotlib.colorbar.Colorbar at 0x7f20d6cdbd50>"
      ]
     },
     "execution_count": 5,
     "metadata": {},
     "output_type": "execute_result"
    },
    {
     "data": {
      "image/png": "[encoded data removed]",
      "text/plain": [
       "<Figure size 432x288 with 2 Axes>"
      ]
     },
     "metadata": {
      "needs_background": "light"
     },
     "output_type": "display_data"
    }
   ],
   "source": [
    "ms = bla[0]\n",
    "\n",
    "r_Ms = np.array([0.71, 0.81, 0.78, 0.66, 0.79, 0.65, 0.76])\n",
    "r_Is = np.array([0.74, 0.46, 0.63, 0.80, 0.53, 0.61, 0.75])\n",
    "\n",
    "\n",
    "def p_M(m, r_M, r_I, f_M=0.2):\n",
    "    if m == 0:\n",
    "        return (1-r_M)*f_M/((1-r_M)*f_M + r_I*(1-f_M))\n",
    "    else:\n",
    "        return r_M*f_M/(r_M*f_M + (1-r_I)*(1-f_M))\n",
    "P = np.zeros_like(ms)\n",
    "for i in range(len(ms)):\n",
    "    P[i] = p_M(ms[i], r_Ms[i], r_Is[i])\n",
    "flag_i = flags[0]\n",
    "plt.scatter(r_Ms[flag_i], r_Is[flag_i], c=P[flag_i])\n",
    "plt.xlabel(r'$r_M$')\n",
    "plt.ylabel(r'$r_I$')\n",
    "plt.colorbar(label=r'$p(M\\mid m,r_M,r_I)$')\n"
   ]
  },
  {
   "cell_type": "code",
   "execution_count": 6,
   "metadata": {},
   "outputs": [
    {
     "data": {
      "text/plain": [
       "<matplotlib.colorbar.Colorbar at 0x7f20d6c24c50>"
      ]
     },
     "execution_count": 6,
     "metadata": {},
     "output_type": "execute_result"
    },
    {
     "data": {
      "image/png": "[encoded data removed]",
      "text/plain": [
       "<Figure size 432x288 with 2 Axes>"
      ]
     },
     "metadata": {
      "needs_background": "light"
     },
     "output_type": "display_data"
    }
   ],
   "source": [
    "ms = bla[1]\n",
    "\n",
    "r_Ms = np.array([0.71, 0.81, 0.78, 0.66, 0.79, 0.65, 0.76])\n",
    "r_Is = np.array([0.74, 0.46, 0.63, 0.80, 0.53, 0.61, 0.75])\n",
    "\n",
    "\n",
    "def p_M(m, r_M, r_I, f_M=0.2, flag=0):\n",
    "    if m == 0:\n",
    "        return (1-r_M)*f_M/((1-r_M)*f_M + r_I*(1-f_M))\n",
    "    else:\n",
    "        return r_M*f_M/(r_M*f_M + (1-r_I)*(1-f_M))\n",
    "P = np.zeros_like(ms)\n",
    "for i in range(len(ms)):\n",
    "    P[i] = p_M(ms[i], r_Ms[i], r_Is[i])\n",
    "    \n",
    "flag_i = flags[1]\n",
    "plt.scatter(r_Ms[flag_i], r_Is[flag_i], c=P[flag_i])\n",
    "plt.xlabel(r'$r_M$')\n",
    "plt.ylabel(r'$r_I$')\n",
    "plt.colorbar(label=r'$p(M\\mid m,r_M,r_I)$')\n"
   ]
  },
  {
   "cell_type": "code",
   "execution_count": 7,
   "metadata": {},
   "outputs": [],
   "source": [
    "def get_merger_prob(ms, r_Ms, r_Is, f_M=0.2, flags=False):\n",
    "    numerator = 1\n",
    "    if flags is not False:\n",
    "        r_Ms = r_Ms[flags]\n",
    "        r_Is = r_Is[flags]\n",
    "    for i in range(len(r_Ms)):\n",
    "        if ms[i] == 0:\n",
    "            numerator *= 1-r_Is[i]\n",
    "        else:\n",
    "            numerator *= r_Ms[i]\n",
    "    numerator *= f_M\n",
    "    denominator = 1\n",
    "    for i in range(len(r_Ms)):\n",
    "        if ms[i] == 0:\n",
    "            denominator *= r_Is[i]\n",
    "        else:\n",
    "            denominator *= 1-r_Ms[i]\n",
    "        \n",
    "    denominator *= (1-f_M)\n",
    "    denominator += numerator\n",
    "    \n",
    "    return numerator/denominator\n"
   ]
  },
  {
   "cell_type": "code",
   "execution_count": 8,
   "metadata": {},
   "outputs": [],
   "source": [
    "p_Ms = np.zeros(len(bla))\n",
    "for i in range(len(bla)):\n",
    "    p_Ms[i] = get_merger_prob(bla[i], r_Ms, r_Is, flags=flags[i])"
   ]
  },
  {
   "cell_type": "code",
   "execution_count": 9,
   "metadata": {},
   "outputs": [
    {
     "data": {
      "text/plain": [
       "[<matplotlib.lines.Line2D at 0x7f20d6ba7b10>]"
      ]
     },
     "execution_count": 9,
     "metadata": {},
     "output_type": "execute_result"
    },
    {
     "data": {
      "image/png": "[encoded data removed]",
      "text/plain": [
       "<Figure size 864x288 with 1 Axes>"
      ]
     },
     "metadata": {
      "needs_background": "light"
     },
     "output_type": "display_data"
    }
   ],
   "source": [
    "plt.figure(figsize=(12, 4))\n",
    "#plt.errorbar(np.arange(1, 193+1), bla.mean(axis=1), yerr=bla.std(axis=1)/7**0.5, fmt='.')\n",
    "\n",
    "t = np.sum(flags, axis=1)\n",
    "cm = plt.cm.copper\n",
    "plt.plot(np.arange(1, 193+1)[t==7], p_Ms[t==7], 'o')\n",
    "plt.plot(np.arange(1, 193+1)[t<7], p_Ms[t<7], 'o', color='k')\n",
    "\n",
    "#plt.plot(np.arange(1, 193+1)[t==6], p_Ms[t==6], 'o', color=cm(0))\n",
    "#plt.plot(np.arange(1, 193+1)[t==5], p_Ms[t==5], 'o', color=cm(0.33))\n",
    "#plt.plot(np.arange(1, 193+1)[t==4], p_Ms[t==4], 'o', color=cm(0.66))\n",
    "#plt.plot(np.arange(1, 193+1)[t==3], p_Ms[t==3], 'o', color=cm(1))"
   ]
  },
  {
   "cell_type": "code",
   "execution_count": 10,
   "metadata": {},
   "outputs": [
    {
     "name": "stdout",
     "output_type": "stream",
     "text": [
      "burn-in: 585\n",
      "thin: 124\n",
      "flat chain shape: (30208, 17)\n",
      "flat log prob shape: (30208,)\n",
      "(30208, 7) (30208, 7) (30208,)\n"
     ]
    }
   ],
   "source": [
    "import emcee\n",
    "import numpy as np\n",
    "filename = 'samples_8.h5'\n",
    "\n",
    "reader = emcee.backends.HDFBackend(filename)\n",
    "\n",
    "tau = reader.get_autocorr_time()\n",
    "burnin = int(2 * np.max(tau))\n",
    "thin = int(0.5 * np.min(tau))\n",
    "samples = reader.get_chain(discard=burnin, flat=True, thin=thin)\n",
    "log_prob_samples = reader.get_log_prob(discard=burnin, flat=True, thin=thin)\n",
    "\n",
    "print(\"burn-in: {0}\".format(burnin))\n",
    "print(\"thin: {0}\".format(thin))\n",
    "print(\"flat chain shape: {0}\".format(samples.shape))\n",
    "print(\"flat log prob shape: {0}\".format(log_prob_samples.shape))\n",
    "\n",
    "Bms, r_Ms, r_Is = samples[:,0], samples[:,1:8], samples[:,9:-1]\n",
    "print(r_Ms.shape, r_Is.shape, Bms.shape)"
   ]
  },
  {
   "cell_type": "code",
   "execution_count": 11,
   "metadata": {},
   "outputs": [
    {
     "name": "stdout",
     "output_type": "stream",
     "text": [
      "(7,)\n",
      "44+7-8\n"
     ]
    },
    {
     "data": {
      "image/png": "[encoded data removed]",
      "text/plain": [
       "<Figure size 432x288 with 1 Axes>"
      ]
     },
     "metadata": {
      "needs_background": "light"
     },
     "output_type": "display_data"
    },
    {
     "data": {
      "image/png": "[encoded data removed]",
      "text/plain": [
       "<Figure size 432x288 with 1 Axes>"
      ]
     },
     "metadata": {
      "needs_background": "light"
     },
     "output_type": "display_data"
    }
   ],
   "source": [
    "p_Ms_MC = np.zeros((len(bla), len(Bms)))\n",
    "print(bla[0].shape)\n",
    "f_Ms = np.ones(len(Bms))*0.1\n",
    "for i in range(len(bla)):\n",
    "    for n in range(len(Bms)):\n",
    "        p_Ms_MC[i,n] = get_merger_prob(bla[i], r_Ms[n], r_Is[n], f_M=f_Ms[n])\n",
    "N_Ms_hat = np.sum(p_Ms_MC, axis=0)\n",
    "_=plt.hist(N_Ms_hat, bins=np.arange(0, 193), density=True)\n",
    "\n",
    "plt.figure()\n",
    "f_Ms_hat = N_Ms_hat/193\n",
    "_=plt.hist(f_Ms_hat, bins=np.linspace(0,1,193), density=True)\n",
    "ll, mu, ul = (100*np.percentile(f_Ms_hat, np.array([50-42.5, 50, 50+42.5]))).astype('int')\n",
    "print(f'{mu}+{ul-mu}-{mu-ll}')"
   ]
  },
  {
   "cell_type": "code",
   "execution_count": 12,
   "metadata": {},
   "outputs": [
    {
     "name": "stdout",
     "output_type": "stream",
     "text": [
      "(7,)\n",
      "56+10-8\n"
     ]
    },
    {
     "data": {
      "image/png": "[encoded data removed]",
      "text/plain": [
       "<Figure size 432x288 with 1 Axes>"
      ]
     },
     "metadata": {
      "needs_background": "light"
     },
     "output_type": "display_data"
    },
    {
     "data": {
      "image/png": "[encoded data removed]",
      "text/plain": [
       "<Figure size 432x288 with 1 Axes>"
      ]
     },
     "metadata": {
      "needs_background": "light"
     },
     "output_type": "display_data"
    }
   ],
   "source": [
    "p_Ms_MC = np.zeros((len(bla), len(Bms)))\n",
    "print(bla[0].shape)\n",
    "f_Ms = np.ones(len(Bms))*0.5\n",
    "for i in range(len(bla)):\n",
    "    for n in range(len(Bms)):\n",
    "        p_Ms_MC[i,n] = get_merger_prob(bla[i], r_Ms[n], r_Is[n], f_M=f_Ms[n])\n",
    "N_Ms_hat = np.sum(p_Ms_MC, axis=0)\n",
    "_=plt.hist(N_Ms_hat, bins=np.arange(0, 193), density=True)\n",
    "\n",
    "plt.figure()\n",
    "f_Ms_hat = N_Ms_hat/193\n",
    "_=plt.hist(f_Ms_hat, bins=np.linspace(0,1,193), density=True)\n",
    "ll, mu, ul = (100*np.percentile(f_Ms_hat, np.array([50-42.5, 50, 50+42.5]))).astype('int')\n",
    "print(f'{mu}+{ul-mu}-{mu-ll}')"
   ]
  },
  {
   "cell_type": "code",
   "execution_count": 13,
   "metadata": {},
   "outputs": [
    {
     "name": "stdout",
     "output_type": "stream",
     "text": [
      "(7,)\n",
      "65+12-9\n"
     ]
    },
    {
     "data": {
      "image/png": "[encoded data removed]",
      "text/plain": [
       "<Figure size 432x288 with 1 Axes>"
      ]
     },
     "metadata": {
      "needs_background": "light"
     },
     "output_type": "display_data"
    },
    {
     "data": {
      "image/png": "[encoded data removed]",
      "text/plain": [
       "<Figure size 432x288 with 1 Axes>"
      ]
     },
     "metadata": {
      "needs_background": "light"
     },
     "output_type": "display_data"
    }
   ],
   "source": [
    "p_Ms_MC = np.zeros((len(bla), len(Bms)))\n",
    "print(bla[0].shape)\n",
    "f_Ms = np.ones(len(Bms))*0.8\n",
    "for i in range(len(bla)):\n",
    "    for n in range(len(Bms)):\n",
    "        p_Ms_MC[i,n] = get_merger_prob(bla[i], r_Ms[n], r_Is[n], f_M=f_Ms[n])\n",
    "N_Ms_hat = np.sum(p_Ms_MC, axis=0)\n",
    "_=plt.hist(N_Ms_hat, bins=np.arange(0, 193), density=True)\n",
    "\n",
    "plt.figure()\n",
    "f_Ms_hat = N_Ms_hat/193\n",
    "_=plt.hist(f_Ms_hat, bins=np.linspace(0,1,193), density=True)\n",
    "ll, mu, ul = (100*np.percentile(f_Ms_hat, np.array([50-42.5, 50, 50+42.5]))).astype('int')\n",
    "print(f'{mu}+{ul-mu}-{mu-ll}')"
   ]
  },
  {
   "cell_type": "code",
   "execution_count": 14,
   "metadata": {},
   "outputs": [
    {
     "name": "stdout",
     "output_type": "stream",
     "text": [
      "(7,)\n",
      "71+13-11\n"
     ]
    },
    {
     "data": {
      "image/png": "[encoded data removed]",
      "text/plain": [
       "<Figure size 432x288 with 1 Axes>"
      ]
     },
     "metadata": {
      "needs_background": "light"
     },
     "output_type": "display_data"
    },
    {
     "data": {
      "image/png": "[encoded data removed]",
      "text/plain": [
       "<Figure size 432x288 with 1 Axes>"
      ]
     },
     "metadata": {
      "needs_background": "light"
     },
     "output_type": "display_data"
    }
   ],
   "source": [
    "p_Ms_MC = np.zeros((len(bla), len(Bms)))\n",
    "print(bla[0].shape)\n",
    "f_Ms = np.ones(len(Bms))*0.9\n",
    "for i in range(len(bla)):\n",
    "    for n in range(len(Bms)):\n",
    "        p_Ms_MC[i,n] = get_merger_prob(bla[i], r_Ms[n], r_Is[n], f_M=f_Ms[n])\n",
    "N_Ms_hat = np.sum(p_Ms_MC, axis=0)\n",
    "_=plt.hist(N_Ms_hat, bins=np.arange(0, 193), density=True)\n",
    "\n",
    "plt.figure()\n",
    "f_Ms_hat = N_Ms_hat/193\n",
    "_=plt.hist(f_Ms_hat, bins=np.linspace(0,1,193), density=True)\n",
    "ll, mu, ul = (100*np.percentile(f_Ms_hat, np.array([50-42.5, 50, 50+42.5]))).astype('int')\n",
    "print(f'{mu}+{ul-mu}-{mu-ll}')"
   ]
  },
  {
   "cell_type": "code",
   "execution_count": 15,
   "metadata": {},
   "outputs": [],
   "source": [
    "lls, cens, uls = np.percentile(p_Ms_MC, np.array([50-42.5, 50, 50+42.5]), axis=1)"
   ]
  },
  {
   "cell_type": "code",
   "execution_count": 29,
   "metadata": {},
   "outputs": [
    {
     "data": {
      "image/png": "[encoded data removed]",
      "text/plain": [
       "<Figure size 864x288 with 1 Axes>"
      ]
     },
     "metadata": {
      "needs_background": "light"
     },
     "output_type": "display_data"
    },
    {
     "data": {
      "image/png": "[encoded data removed]",
      "text/plain": [
       "<Figure size 864x288 with 1 Axes>"
      ]
     },
     "metadata": {
      "needs_background": "light"
     },
     "output_type": "display_data"
    }
   ],
   "source": [
    "plt.figure(figsize=(12, 4))\n",
    "#plt.errorbar(np.arange(1, 193+1), bla.mean(axis=1), yerr=bla.std(axis=1)/7**0.5, fmt='.')\n",
    "\n",
    "plt.errorbar(np.arange(1,193+1), cens, yerr=[cens-lls, uls-cens], fmt='o', color='C2')\n",
    "plt.xlabel('Galaxy index')\n",
    "plt.ylabel('Probability of being in a merger')\n",
    "\n",
    "plt.figure(figsize=(12,4))\n",
    "inds = np.arange(20)\n",
    "plt.errorbar(np.arange(1,193+1)[inds], cens[inds], yerr=[cens[inds]-lls[inds], uls[inds]-cens[inds]], fmt='.', color='C2')\n",
    "plt.xlabel('Mock galaxy index')\n",
    "plt.ylabel('Probability of being in a merger')\n",
    "plt.xticks(np.arange(1,193+1)[inds])\n",
    "plt.savefig('sim_gal_analysis.pdf', bbox_inches='tight')"
   ]
  },
  {
   "cell_type": "code",
   "execution_count": 22,
   "metadata": {},
   "outputs": [
    {
     "name": "stdout",
     "output_type": "stream",
     "text": [
      "ind=7, merger chance between 9% and 80%\n",
      "ind=11, merger chance between 9% and 80%\n",
      "ind=12, merger chance between 3% and 69%\n",
      "ind=14, merger chance between 5% and 66%\n",
      "ind=16, merger chance between 5% and 66%\n",
      "ind=21, merger chance between 8% and 77%\n",
      "ind=33, merger chance between 26% and 92%\n",
      "ind=47, merger chance between 5% and 66%\n",
      "ind=55, merger chance between 19% and 94%\n",
      "ind=58, merger chance between 3% and 69%\n",
      "ind=62, merger chance between 5% and 66%\n",
      "ind=65, merger chance between 19% and 90%\n",
      "ind=69, merger chance between 5% and 66%\n",
      "ind=70, merger chance between 5% and 66%\n",
      "ind=73, merger chance between 5% and 66%\n",
      "ind=76, merger chance between 3% and 69%\n",
      "ind=77, merger chance between 11% and 87%\n",
      "ind=78, merger chance between 5% and 66%\n",
      "ind=79, merger chance between 19% and 90%\n",
      "ind=80, merger chance between 5% and 66%\n",
      "ind=81, merger chance between 5% and 66%\n",
      "ind=82, merger chance between 5% and 66%\n",
      "ind=88, merger chance between 39% and 94%\n",
      "ind=90, merger chance between 26% and 92%\n",
      "ind=92, merger chance between 17% and 93%\n",
      "ind=94, merger chance between 5% and 66%\n",
      "ind=101, merger chance between 5% and 66%\n",
      "ind=102, merger chance between 3% and 69%\n",
      "ind=103, merger chance between 5% and 73%\n",
      "ind=104, merger chance between 19% and 90%\n",
      "ind=106, merger chance between 19% and 90%\n",
      "ind=107, merger chance between 5% and 66%\n",
      "ind=113, merger chance between 5% and 73%\n",
      "ind=121, merger chance between 5% and 66%\n",
      "ind=122, merger chance between 5% and 66%\n",
      "ind=126, merger chance between 8% and 77%\n",
      "ind=133, merger chance between 11% and 87%\n",
      "ind=146, merger chance between 28% and 93%\n",
      "ind=149, merger chance between 17% and 93%\n",
      "ind=154, merger chance between 19% and 90%\n",
      "ind=155, merger chance between 5% and 73%\n",
      "ind=158, merger chance between 3% and 69%\n",
      "ind=166, merger chance between 19% and 90%\n",
      "ind=167, merger chance between 5% and 66%\n",
      "ind=177, merger chance between 3% and 69%\n",
      "ind=180, merger chance between 19% and 90%\n",
      "ind=187, merger chance between 11% and 87%\n",
      "ind=190, merger chance between 26% and 92%\n",
      "ind=192, merger chance between 5% and 66%\n",
      "ind=193, merger chance between 5% and 73%\n"
     ]
    }
   ],
   "source": [
    "inds = np.where((cens < 0.8) & (cens > 0.2))\n",
    "labels = np.arange(1,193+1)[inds]\n",
    "prob = np.round(cens[inds],2)\n",
    "\n",
    "\n",
    "for l, ul, ll in zip(labels, uls[inds], lls[inds]):\n",
    "    print(f'ind={l}, merger chance between {int(ll*100)}% and {int(ul*100)}%')\n"
   ]
  },
  {
   "cell_type": "code",
   "execution_count": 23,
   "metadata": {},
   "outputs": [
    {
     "data": {
      "text/plain": [
       "R1                                    NE\n",
       "R2                                   MiM\n",
       "R3                                    NE\n",
       "R4                                   MaD\n",
       "R5                                   MaD\n",
       "R6                                   MiD\n",
       "R7                                    NE\n",
       "R1_flag                              NaN\n",
       "R2_flag                              NaN\n",
       "R3_flag                              NaN\n",
       "R4_flag    Unsure with my classification\n",
       "R5_flag                              NaN\n",
       "R6_flag                              NaN\n",
       "R7_flag                              NaN\n",
       "Name: 56, dtype: object"
      ]
     },
     "execution_count": 23,
     "metadata": {},
     "output_type": "execute_result"
    }
   ],
   "source": [
    "labs = ['R1','R2','R3','R4','R5','R6','R7']\n",
    "labs_flag = [l + '_flag' for l in labs]\n",
    "f[labs + labs_flag].loc[56]"
   ]
  },
  {
   "cell_type": "code",
   "execution_count": 24,
   "metadata": {},
   "outputs": [
    {
     "data": {
      "text/plain": [
       "139.45754367580113"
      ]
     },
     "execution_count": 24,
     "metadata": {},
     "output_type": "execute_result"
    },
    {
     "data": {
      "image/png": "[encoded data removed]",
      "text/plain": [
       "<Figure size 432x288 with 1 Axes>"
      ]
     },
     "metadata": {
      "needs_background": "light"
     },
     "output_type": "display_data"
    }
   ],
   "source": [
    "plt.plot(p_Ms_MC.mean(axis=1), 'o')\n",
    "sum(p_Ms_MC.mean(axis=1))"
   ]
  },
  {
   "cell_type": "code",
   "execution_count": 25,
   "metadata": {},
   "outputs": [
    {
     "data": {
      "text/plain": [
       "0.7225779465067418"
      ]
     },
     "execution_count": 25,
     "metadata": {},
     "output_type": "execute_result"
    }
   ],
   "source": [
    "np.mean(p_Ms_MC.mean(axis=1))"
   ]
  },
  {
   "cell_type": "code",
   "execution_count": null,
   "metadata": {},
   "outputs": [],
   "source": []
  }
 ],
 "metadata": {
  "kernelspec": {
   "display_name": "Python 3 (Anaconda)",
   "language": "python",
   "name": "python3-anaconda"
  },
  "language_info": {
   "codemirror_mode": {
    "name": "ipython",
    "version": 3
   },
   "file_extension": ".py",
   "mimetype": "text/x-python",
   "name": "python",
   "nbconvert_exporter": "python",
   "pygments_lexer": "ipython3",
   "version": "3.7.4"
  }
 },
 "nbformat": 4,
 "nbformat_minor": 4
}
